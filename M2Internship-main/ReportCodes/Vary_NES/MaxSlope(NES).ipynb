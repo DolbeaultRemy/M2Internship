{
 "cells": [
  {
   "cell_type": "code",
   "execution_count": 1,
   "id": "c7dffc57-00c9-40b7-a562-a576a61d5b07",
   "metadata": {},
   "outputs": [],
   "source": [
    "using QuantumOptics\n",
    "using Statistics\n",
    "using PyPlot\n",
    "using Random\n",
    "using JLD2\n",
    "using CollectiveSpins"
   ]
  },
  {
   "cell_type": "code",
   "execution_count": 2,
   "id": "54d5c599-3cba-4e2a-b823-5c629f2f1db1",
   "metadata": {},
   "outputs": [
    {
     "data": {
      "text/plain": [
       "prepare_phi_IS"
      ]
     },
     "metadata": {},
     "output_type": "display_data"
    }
   ],
   "source": [
    "function prepare_theta_state(N_ES)\n",
    "    return shuffle(vcat(zeros(Int, N_ES), ones(Int, N-N_ES)*pi))\n",
    "end\n",
    "\n",
    "\"\"\" Renormalize list of spins for independent case. Maps <σz> to go from [-1, 1] to [-1, 2N_ES/N - 1] \"\"\"\n",
    "function renorm_spin(list_spins, N_ES, N)\n",
    "    return (list_spins.+1) .* (N_ES/N) .-1\n",
    "end\n",
    "\n",
    "\"\"\" Prepare the initial state of the system \n",
    "with a phase correlation imposed between the atoms\n",
    "because the laser arrive on the lattice with an angle θl \"\"\"\n",
    "function prepare_phi_IS(θl, λl, theta_array)\n",
    "    phi_array = zeros(N)\n",
    "    for i = 1:N\n",
    "        phi_array[i] = 2pi * sqrt(sum((system.spins[i].position .* [cos(θl), sin(θl), 0]) .^ 2))\n",
    "    end\n",
    "    return phi_array\n",
    "end"
   ]
  },
  {
   "cell_type": "markdown",
   "id": "e632f8f9-5f80-44f2-94d1-99170443fae8",
   "metadata": {},
   "source": [
    "### Define the system"
   ]
  },
  {
   "cell_type": "code",
   "execution_count": 3,
   "id": "399dd4f5-0dad-4b59-ba97-afa57b7382c3",
   "metadata": {},
   "outputs": [],
   "source": [
    "# Define geometry of system\n",
    "Nx,Ny,Nz = [5,5,1] #5x5x3=75 sites takes about 6 seconds to calculate on my laptop (first time is slower ofcourse)\n",
    "N = Nx*Ny*Nz\n",
    "d_xy, d_z = 266., 532.\n",
    "λ = 1299.\n",
    "θl = 30*pi/180\n",
    "\n",
    "theta_init = 0 # Only interesting case to distinguish Elec/Elec+Mgt\n",
    "phi_init = 0\n",
    "\n",
    "# Integration time\n",
    "Tstep = 1e-3\n",
    "Tend = 1\n",
    "T= [0:Tstep:Tend;];"
   ]
  },
  {
   "cell_type": "code",
   "execution_count": 4,
   "id": "f9d5bfe1-31ba-447d-802b-83ad2e4bbbd6",
   "metadata": {},
   "outputs": [],
   "source": [
    "a,b,c = [d_xy,d_xy,d_z]/λ\n",
    "geo = CollectiveSpins.geometry.box(a,b,c;Nx=Nx,Ny=Ny,Nz=Nz)\n",
    "e = [0,0,1]   # Quantization axis\n",
    "system = CollectiveSpins.SpinCollection(geo, e, gammas=1.);"
   ]
  },
  {
   "cell_type": "markdown",
   "id": "b9bc2d89-9b58-43fa-a102-d8ba36192473",
   "metadata": {},
   "source": [
    "### Computations"
   ]
  },
  {
   "cell_type": "code",
   "execution_count": 5,
   "id": "cff73619-5e6e-4728-915c-8b5c91e3302d",
   "metadata": {},
   "outputs": [],
   "source": [
    "repetition = 10; # Nbr of repetition per initial excited states"
   ]
  },
  {
   "cell_type": "code",
   "execution_count": 6,
   "id": "63baac0e-1cc6-4f41-ad3a-daac9deac53d",
   "metadata": {},
   "outputs": [
    {
     "name": "stdout",
     "output_type": "stream",
     "text": [
      "1/25\n",
      "3/25\n",
      "5/25\n",
      "7/25\n",
      "9/25\n",
      "11/25\n",
      "13/25\n",
      "15/25\n",
      "17/25\n",
      "19/25\n",
      "21/25\n",
      "23/25\n",
      "25/25\n"
     ]
    }
   ],
   "source": [
    "Mean_σz_array = []\n",
    "Std_σz_array = []\n",
    "Diff_mean_σz_array = []\n",
    "Std_diff_σz_array = []\n",
    "Diff_mean_σz_array_max = []\n",
    "Std_diff_σz_array_max = []\n",
    "\n",
    "for N_ES in 1:2:N\n",
    "    println(string(N_ES)*\"/\"*string(N))\n",
    "\n",
    "    σz_rep = []\n",
    "\n",
    "    for j = 1:repetition\n",
    "        # Initial state\n",
    "        Ψ0 = CollectiveSpins.mpc.blochstate(zeros(N), prepare_theta_state(N_ES))\n",
    "        ρt = CollectiveSpins.mpc.timeevolution(T, system, Ψ0, dt=Tstep)[2]\n",
    "        push!(σz_rep, [(-1 *(mean(CollectiveSpins.mpc.sz(ρ)) +1)/2 -6) for ρ in ρt])\n",
    "    end\n",
    "\n",
    "    push!(Mean_σz_array, mean(σz_rep))\n",
    "    push!(Std_σz_array, std(σz_rep))\n",
    "    push!(Diff_mean_σz_array, (diff(Mean_σz_array[end])./Tstep))\n",
    "    push!(Std_diff_σz_array, std([(diff(σz)/Tstep) for σz in σz_rep]))\n",
    "    push!(Diff_mean_σz_array_max, maximum(diff(Mean_σz_array[end])./Tstep))\n",
    "    push!(Std_diff_σz_array_max, std([maximum(diff(σz)/Tstep) for σz in σz_rep]))\n",
    "end"
   ]
  },
  {
   "cell_type": "code",
   "execution_count": 7,
   "id": "645635f1-c8d5-46ca-bd57-4a59c8842550",
   "metadata": {},
   "outputs": [],
   "source": [
    "# Independent case\n",
    "phi, theta = 0., 0.\n",
    "Ψ0_ind = CollectiveSpins.independent.blochstate(phi, theta, N)\n",
    "geo = CollectiveSpins.geometry.box(a,b,c;Nx=Nx,Ny=Ny,Nz=Nz)\n",
    "system = CollectiveSpins.SpinCollection(geo, e, gammas=1.)\n",
    "tout, ρt_ind = CollectiveSpins.independent.timeevolution(T, system, Ψ0_ind, dt=Tstep)\n",
    "mean_σz_ind = [mean(CollectiveSpins.independent.sz(ρ)) for ρ in ρt_ind]\n",
    "\n",
    "Mean_σz_ind_array = []\n",
    "Diff_mean_σz_ind_array = []\n",
    "\n",
    "for N_ES in 1:2:N\n",
    "    push!(Mean_σz_ind_array, (-1 .*(renorm_spin(mean_σz_ind, N_ES, N) .+1) ./2) .-6)\n",
    "    push!(Diff_mean_σz_ind_array, diff(Mean_σz_ind_array[end])/Tstep)\n",
    "end"
   ]
  },
  {
   "cell_type": "markdown",
   "id": "2636e829",
   "metadata": {},
   "source": [
    "### Plot CS"
   ]
  },
  {
   "cell_type": "code",
   "execution_count": 8,
   "id": "b29206a9",
   "metadata": {},
   "outputs": [
    {
     "data": {
      "text/plain": [
       "false"
      ]
     },
     "metadata": {},
     "output_type": "display_data"
    }
   ],
   "source": [
    "close(\"all\")\n",
    "figure()\n",
    "for i = 1:N÷2\n",
    "    plot(Mean_σz_array[i], label=string(i))\n",
    "    plot(Mean_σz_ind_array[i], linestyle=\"--\", label=string(i))\n",
    "end\n",
    "legend()\n",
    "pygui(false);\n",
    "#pygui(true); show()"
   ]
  },
  {
   "cell_type": "markdown",
   "id": "d15cbf5b",
   "metadata": {},
   "source": [
    "# Load QC"
   ]
  },
  {
   "cell_type": "code",
   "execution_count": 9,
   "id": "86de00cc",
   "metadata": {},
   "outputs": [],
   "source": [
    "@load \"NES_MaxSlope_QC_Nx_$(Nx)_Ny_$(Ny)_Nz_$(Nz)_theta_$(round(0, digits=1))_phi_$(0)_thetal_$(round(θl, digits=2)).jld2\" var_FF_max_diff_mean_σz std_var_FF_max_diff_mean_σz sols;"
   ]
  },
  {
   "cell_type": "code",
   "execution_count": 10,
   "id": "70729692",
   "metadata": {},
   "outputs": [],
   "source": [
    "for s in sols\n",
    "    plot(diff(s)./Tstep)\n",
    "end"
   ]
  },
  {
   "cell_type": "code",
   "execution_count": 11,
   "id": "5d54f887",
   "metadata": {},
   "outputs": [],
   "source": [
    "mean_QC_sigmaz = []\n",
    "counter = 1\n",
    "σz_rep = []\n",
    "for s in sols\n",
    "    push!(σz_rep, s)\n",
    "    if counter%repetition==0 && counter > 1\n",
    "        push!(mean_QC_sigmaz, mean(σz_rep))\n",
    "        σz_rep = []\n",
    "    end\n",
    "    counter +=1\n",
    "end"
   ]
  },
  {
   "cell_type": "code",
   "execution_count": 12,
   "id": "2d5f0817",
   "metadata": {},
   "outputs": [
    {
     "data": {
      "text/plain": [
       "false"
      ]
     },
     "metadata": {},
     "output_type": "display_data"
    }
   ],
   "source": [
    "close(\"all\")\n",
    "figure()\n",
    "\n",
    "PyPlot.rc(\"font\", size = 12)\n",
    "\n",
    "colorz = String[]\n",
    "\n",
    "for i = 1:3:13\n",
    "    plt = plot(T[1:end-1], diff(mean_QC_sigmaz[i])./Tstep, label=L\"N_{ES} = \"*string((2*i-1)))\n",
    "    push!(colorz, plt[1].get_color())\n",
    "end\n",
    "\n",
    "#= for i = 1:2:13\n",
    "    plot(T[1:end-1], diff(mean_QC_sigmaz[i])./Tstep)\n",
    "end\n",
    " =#\n",
    "\n",
    "counter = 1\n",
    "for i = 1:3:13\n",
    "    plot(T[1:end-1], Diff_mean_σz_array[i], linestyle=\"-.\", color=colorz[counter])\n",
    "    counter += 1\n",
    "end\n",
    "counter = 1\n",
    "for i = 1:3:13\n",
    "    plot(T[1:end-1], diff(Mean_σz_ind_array[i])./Tstep, linestyle=\"--\", color=colorz[counter])\n",
    "    counter += 1\n",
    "end\n",
    "\n",
    "xlabel(L\"t/\\tau\", fontsize=16)\n",
    "ylabel(L\"\\langle\\sigma_z\\rangle\", fontsize=16)\n",
    "legend()\n",
    "savefig(\"/Users/remy/Documents/Remy/ENSL_2024_2025/Stage_M2/Rapport_Stage_M2/Figures/Vary_NES_Decay_rateMGT.pdf\", bbox_inches=\"tight\")\n",
    "pygui(false);\n",
    "#pygui(true); show()"
   ]
  },
  {
   "cell_type": "code",
   "execution_count": 13,
   "id": "ca237c6e",
   "metadata": {},
   "outputs": [
    {
     "data": {
      "text/plain": [
       "13-element Vector{Any}:\n",
       " 1.1589360157175735e-5\n",
       " 2.6440981263693792e-5\n",
       " 2.7353773150411864e-5\n",
       " 3.979089446477071e-5\n",
       " 4.920937333257559e-5\n",
       " 5.2853829760104874e-5\n",
       " 4.13093616463656e-5\n",
       " 5.309211382120286e-5\n",
       " 0.00237048457197717\n",
       " 0.01133964675528715\n",
       " 0.021483954197514858\n",
       " 0.012520779647124057\n",
       " 0.0"
      ]
     },
     "metadata": {},
     "output_type": "display_data"
    }
   ],
   "source": [
    "Std_diff_σz_array_max"
   ]
  },
  {
   "cell_type": "code",
   "execution_count": 14,
   "id": "9d3f2fe2",
   "metadata": {},
   "outputs": [],
   "source": [
    "close(\"all\")\n",
    "figure()\n",
    "plot([i/N for i = 1:2:N], var_FF_max_diff_mean_σz)\n",
    "plot([i/N for i = 1:2:N], [maximum(Diff_mean_σz_array[i]) for i = 1:length(Diff_mean_σz_array)], linestyle=\"--\")\n",
    "errorbar([i/N for i = 1:2:N], Diff_mean_σz_array_max, yerr=Std_diff_σz_array_max, linestyle=\"-.\")\n",
    "pygui(false); "
   ]
  },
  {
   "cell_type": "markdown",
   "id": "aa1015cc-f029-4b3c-a750-7d5937fe74be",
   "metadata": {},
   "source": [
    "### Plots"
   ]
  },
  {
   "cell_type": "code",
   "execution_count": 19,
   "id": "156131c2-031c-4197-9b3d-88f69611e532",
   "metadata": {},
   "outputs": [
    {
     "data": {
      "image/png": "[encoded data removed]",
      "text/plain": [
       "Figure(PyObject <Figure size 640x480 with 1 Axes>)"
      ]
     },
     "metadata": {},
     "output_type": "display_data"
    }
   ],
   "source": [
    "close(\"all\")\n",
    "figure()\n",
    "\n",
    "PyPlot.rc(\"font\", size = 12)\n",
    "\n",
    "errorbar([i/N for i = 1:2:N], [Diff_mean_σz_array_max[i]/Diff_mean_σz_ind_array[i][1] for i = 1:length(Diff_mean_σz_array_max)], yerr=[Std_diff_σz_array_max[i]/Diff_mean_σz_ind_array[i][1] for i=1:length(Std_diff_σz_array_max)], label=L\"H_{ElecDD}\")\n",
    "errorbar([i/N for i = 1:2:N], [var_FF_max_diff_mean_σz[i]/Diff_mean_σz_ind_array[i][1] for i=1:length(var_FF_max_diff_mean_σz)], yerr=[std_var_FF_max_diff_mean_σz[i]/Diff_mean_σz_ind_array[i][1] for i=1:length(std_var_FF_max_diff_mean_σz)], label=L\"H_{ElecDD}+H_{MgtDD}\")\n",
    "\n",
    "xlabel(L\"N_{ES}/N\", fontsize=16)\n",
    "ylabel(L\"\\mathcal{C}_{max}\", fontsize=16)\n",
    "#yscale(\"log\")\n",
    "axhline(1, linestyle=\"--\", color=\"gray\")\n",
    "#axvline(0.5, linestyle=\"--\", color=\"gray\")\n",
    "#title(L\"Normalised initial slope of $<\\sigma_z>$ as a function of \"*\"\\n\"*\"the number of ES in the initial state\")\n",
    "legend()\n",
    "savefig(\"/Users/remy/Documents/Remy/ENSL_2024_2025/Stage_M2/Rapport_Stage_M2/Figures/Max_slope(NES).pdf\", bbox_inches=\"tight\")\n",
    "\n",
    "pygui(false); gcf()\n",
    "\n",
    "#pygui(true); show()"
   ]
  },
  {
   "cell_type": "code",
   "execution_count": 16,
   "id": "cfc1df21-fd35-474d-94ca-218065cd6df9",
   "metadata": {},
   "outputs": [],
   "source": [
    "# Save data\n",
    "#= save_object(\"Mean_sigmaz_var_NES_rep.jld2\", Diff_mean_σz_array)\n",
    "save_object(\"Std_sigmaz_var_NES_rep.jld2\", Std_diff_σz_array) =#"
   ]
  },
  {
   "cell_type": "code",
   "execution_count": 17,
   "id": "1376a2ba-c647-4728-ad68-21c50f9a635c",
   "metadata": {},
   "outputs": [],
   "source": [
    "# Load data\n",
    "Diff_mean_σz_array = load_object(\"Mean_sigmaz_var_NES_rep.jld2\")\n",
    "Std_diff_σz_array = load_object(\"Std_sigmaz_var_NES_rep.jld2\");"
   ]
  },
  {
   "cell_type": "code",
   "execution_count": 18,
   "id": "9542054d",
   "metadata": {},
   "outputs": [],
   "source": []
  }
 ],
 "metadata": {
  "kernelspec": {
   "display_name": "Julia 1.11.4",
   "language": "julia",
   "name": "julia-1.11"
  },
  "language_info": {
   "file_extension": ".jl",
   "mimetype": "application/julia",
   "name": "julia",
   "version": "1.11.4"
  }
 },
 "nbformat": 4,
 "nbformat_minor": 5
}
