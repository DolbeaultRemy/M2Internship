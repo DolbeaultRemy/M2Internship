{
 "cells": [
  {
   "cell_type": "code",
   "execution_count": 1,
   "id": "707089dd",
   "metadata": {},
   "outputs": [
    {
     "name": "stderr",
     "output_type": "stream",
     "text": [
      "\u001b[91m\u001b[1mERROR: \u001b[22m\u001b[39mLoadError: UndefVarError: `AbstractNonlinearTerminationMode` not defined in `DiffEqBase`\n",
      "Stacktrace:\n",
      " [1] \u001b[0m\u001b[1mgetproperty\u001b[22m\u001b[0m\u001b[1m(\u001b[22m\u001b[90mx\u001b[39m::\u001b[0mModule, \u001b[90mf\u001b[39m::\u001b[0mSymbol\u001b[0m\u001b[1m)\u001b[22m\n",
      "\u001b[90m   @\u001b[39m \u001b[90mBase\u001b[39m \u001b[90m./\u001b[39m\u001b[90m\u001b[4mBase.jl:42\u001b[24m\u001b[39m\n",
      " [2] top-level scope\n",
      "\u001b[90m   @\u001b[39m \u001b[90m~/.julia/packages/SteadyStateDiffEq/jdIWC/src/\u001b[39m\u001b[90m\u001b[4msolve.jl:70\u001b[24m\u001b[39m\n",
      " [3] \u001b[0m\u001b[1minclude\u001b[22m\u001b[0m\u001b[1m(\u001b[22m\u001b[90mmod\u001b[39m::\u001b[0mModule, \u001b[90m_path\u001b[39m::\u001b[0mString\u001b[0m\u001b[1m)\u001b[22m\n",
      "\u001b[90m   @\u001b[39m \u001b[90mBase\u001b[39m \u001b[90m./\u001b[39m\u001b[90m\u001b[4mBase.jl:557\u001b[24m\u001b[39m\n",
      " [4] \u001b[0m\u001b[1minclude\u001b[22m\u001b[0m\u001b[1m(\u001b[22m\u001b[90mx\u001b[39m::\u001b[0mString\u001b[0m\u001b[1m)\u001b[22m\n",
      "\u001b[90m   @\u001b[39m \u001b[35mSteadyStateDiffEq\u001b[39m \u001b[90m~/.julia/packages/SteadyStateDiffEq/jdIWC/src/\u001b[39m\u001b[90m\u001b[4mSteadyStateDiffEq.jl:1\u001b[24m\u001b[39m\n",
      " [5] top-level scope\n",
      "\u001b[90m   @\u001b[39m \u001b[90m~/.julia/packages/SteadyStateDiffEq/jdIWC/src/\u001b[39m\u001b[90m\u001b[4mSteadyStateDiffEq.jl:9\u001b[24m\u001b[39m\n",
      " [6] \u001b[0m\u001b[1minclude\u001b[22m\n",
      "\u001b[90m   @\u001b[39m \u001b[90m./\u001b[39m\u001b[90m\u001b[4mBase.jl:557\u001b[24m\u001b[39m\u001b[90m [inlined]\u001b[39m\n",
      " [7] \u001b[0m\u001b[1minclude_package_for_output\u001b[22m\u001b[0m\u001b[1m(\u001b[22m\u001b[90mpkg\u001b[39m::\u001b[0mBase.PkgId, \u001b[90minput\u001b[39m::\u001b[0mString, \u001b[90mdepot_path\u001b[39m::\u001b[0mVector\u001b[90m{String}\u001b[39m, \u001b[90mdl_load_path\u001b[39m::\u001b[0mVector\u001b[90m{String}\u001b[39m, \u001b[90mload_path\u001b[39m::\u001b[0mVector\u001b[90m{String}\u001b[39m, \u001b[90mconcrete_deps\u001b[39m::\u001b[0mVector\u001b[90m{Pair{Base.PkgId, UInt128}}\u001b[39m, \u001b[90msource\u001b[39m::\u001b[0mString\u001b[0m\u001b[1m)\u001b[22m\n",
      "\u001b[90m   @\u001b[39m \u001b[90mBase\u001b[39m \u001b[90m./\u001b[39m\u001b[90m\u001b[4mloading.jl:2881\u001b[24m\u001b[39m\n",
      " [8] top-level scope\n",
      "\u001b[90m   @\u001b[39m \u001b[90m\u001b[4mstdin:6\u001b[24m\u001b[39m\n",
      "in expression starting at /Users/remy/.julia/packages/SteadyStateDiffEq/jdIWC/src/solve.jl:70\n",
      "in expression starting at /Users/remy/.julia/packages/SteadyStateDiffEq/jdIWC/src/SteadyStateDiffEq.jl:1\n",
      "in expression starting at stdin:6\n",
      "\u001b[91m\u001b[1mERROR: \u001b[22m\u001b[39mLoadError: Failed to precompile SteadyStateDiffEq [9672c7b4-1e72-59bd-8a11-6ac3964bc41f] to \"/Users/remy/.julia/compiled/v1.11/SteadyStateDiffEq/jl_AYMQDQ\".\n",
      "Stacktrace:\n",
      "  [1] \u001b[0m\u001b[1merror\u001b[22m\u001b[0m\u001b[1m(\u001b[22m\u001b[90ms\u001b[39m::\u001b[0mString\u001b[0m\u001b[1m)\u001b[22m\n",
      "\u001b[90m    @\u001b[39m \u001b[90mBase\u001b[39m \u001b[90m./\u001b[39m\u001b[90m\u001b[4merror.jl:35\u001b[24m\u001b[39m\n",
      "  [2] \u001b[0m\u001b[1mcompilecache\u001b[22m\u001b[0m\u001b[1m(\u001b[22m\u001b[90mpkg\u001b[39m::\u001b[0mBase.PkgId, \u001b[90mpath\u001b[39m::\u001b[0mString, \u001b[90minternal_stderr\u001b[39m::\u001b[0mIO, \u001b[90minternal_stdout\u001b[39m::\u001b[0mIO, \u001b[90mkeep_loaded_modules\u001b[39m::\u001b[0mBool; \u001b[90mflags\u001b[39m::\u001b[0mCmd, \u001b[90mcacheflags\u001b[39m::\u001b[0mBase.CacheFlags, \u001b[90mreasons\u001b[39m::\u001b[0mDict\u001b[90m{String, Int64}\u001b[39m, \u001b[90mloadable_exts\u001b[39m::\u001b[0mNothing\u001b[0m\u001b[1m)\u001b[22m\n",
      "\u001b[90m    @\u001b[39m \u001b[90mBase\u001b[39m \u001b[90m./\u001b[39m\u001b[90m\u001b[4mloading.jl:3174\u001b[24m\u001b[39m\n",
      "  [3] \u001b[0m\u001b[1m(::Base.var\"#1110#1111\"{Base.PkgId})\u001b[22m\u001b[0m\u001b[1m(\u001b[22m\u001b[0m\u001b[1m)\u001b[22m\n",
      "\u001b[90m    @\u001b[39m \u001b[90mBase\u001b[39m \u001b[90m./\u001b[39m\u001b[90m\u001b[4mloading.jl:2579\u001b[24m\u001b[39m\n",
      "  [4] \u001b[0m\u001b[1mmkpidlock\u001b[22m\u001b[0m\u001b[1m(\u001b[22m\u001b[90mf\u001b[39m::\u001b[0mBase.var\"#1110#1111\"\u001b[90m{Base.PkgId}\u001b[39m, \u001b[90mat\u001b[39m::\u001b[0mString, \u001b[90mpid\u001b[39m::\u001b[0mInt32; \u001b[90mkwopts\u001b[39m::\u001b[0m@Kwargs\u001b[90m{stale_age::Int64, wait::Bool}\u001b[39m\u001b[0m\u001b[1m)\u001b[22m\n",
      "\u001b[90m    @\u001b[39m \u001b[35mFileWatching.Pidfile\u001b[39m \u001b[90m/Applications/Julia-1.11.app/Contents/Resources/julia/share/julia/stdlib/v1.11/FileWatching/src/\u001b[39m\u001b[90m\u001b[4mpidfile.jl:95\u001b[24m\u001b[39m\n",
      "  [5] \u001b[0m\u001b[1m#mkpidlock#6\u001b[22m\n",
      "\u001b[90m    @\u001b[39m \u001b[90m/Applications/Julia-1.11.app/Contents/Resources/julia/share/julia/stdlib/v1.11/FileWatching/src/\u001b[39m\u001b[90m\u001b[4mpidfile.jl:90\u001b[24m\u001b[39m\u001b[90m [inlined]\u001b[39m\n",
      "  [6] \u001b[0m\u001b[1mtrymkpidlock\u001b[22m\u001b[0m\u001b[1m(\u001b[22m::\u001b[0mFunction, ::\u001b[0mVararg\u001b[90m{Any}\u001b[39m; \u001b[90mkwargs\u001b[39m::\u001b[0m@Kwargs\u001b[90m{stale_age::Int64}\u001b[39m\u001b[0m\u001b[1m)\u001b[22m\n",
      "\u001b[90m    @\u001b[39m \u001b[35mFileWatching.Pidfile\u001b[39m \u001b[90m/Applications/Julia-1.11.app/Contents/Resources/julia/share/julia/stdlib/v1.11/FileWatching/src/\u001b[39m\u001b[90m\u001b[4mpidfile.jl:116\u001b[24m\u001b[39m\n",
      "  [7] \u001b[0m\u001b[1m#invokelatest#2\u001b[22m\n",
      "\u001b[90m    @\u001b[39m \u001b[90m./\u001b[39m\u001b[90m\u001b[4messentials.jl:1057\u001b[24m\u001b[39m\u001b[90m [inlined]\u001b[39m\n",
      "  [8] \u001b[0m\u001b[1minvokelatest\u001b[22m\n",
      "\u001b[90m    @\u001b[39m \u001b[90m./\u001b[39m\u001b[90m\u001b[4messentials.jl:1052\u001b[24m\u001b[39m\u001b[90m [inlined]\u001b[39m\n",
      "  [9] \u001b[0m\u001b[1mmaybe_cachefile_lock\u001b[22m\u001b[0m\u001b[1m(\u001b[22m\u001b[90mf\u001b[39m::\u001b[0mBase.var\"#1110#1111\"\u001b[90m{Base.PkgId}\u001b[39m, \u001b[90mpkg\u001b[39m::\u001b[0mBase.PkgId, \u001b[90msrcpath\u001b[39m::\u001b[0mString; \u001b[90mstale_age\u001b[39m::\u001b[0mInt64\u001b[0m\u001b[1m)\u001b[22m\n",
      "\u001b[90m    @\u001b[39m \u001b[90mBase\u001b[39m \u001b[90m./\u001b[39m\u001b[90m\u001b[4mloading.jl:3698\u001b[24m\u001b[39m\n",
      " [10] \u001b[0m\u001b[1mmaybe_cachefile_lock\u001b[22m\n",
      "\u001b[90m    @\u001b[39m \u001b[90m./\u001b[39m\u001b[90m\u001b[4mloading.jl:3695\u001b[24m\u001b[39m\u001b[90m [inlined]\u001b[39m\n",
      " [11] \u001b[0m\u001b[1m_require\u001b[22m\u001b[0m\u001b[1m(\u001b[22m\u001b[90mpkg\u001b[39m::\u001b[0mBase.PkgId, \u001b[90menv\u001b[39m::\u001b[0mString\u001b[0m\u001b[1m)\u001b[22m\n",
      "\u001b[90m    @\u001b[39m \u001b[90mBase\u001b[39m \u001b[90m./\u001b[39m\u001b[90m\u001b[4mloading.jl:2565\u001b[24m\u001b[39m\n",
      " [12] \u001b[0m\u001b[1m__require_prelocked\u001b[22m\u001b[0m\u001b[1m(\u001b[22m\u001b[90muuidkey\u001b[39m::\u001b[0mBase.PkgId, \u001b[90menv\u001b[39m::\u001b[0mString\u001b[0m\u001b[1m)\u001b[22m\n",
      "\u001b[90m    @\u001b[39m \u001b[90mBase\u001b[39m \u001b[90m./\u001b[39m\u001b[90m\u001b[4mloading.jl:2388\u001b[24m\u001b[39m\n",
      " [13] \u001b[0m\u001b[1m#invoke_in_world#3\u001b[22m\n",
      "\u001b[90m    @\u001b[39m \u001b[90m./\u001b[39m\u001b[90m\u001b[4messentials.jl:1089\u001b[24m\u001b[39m\u001b[90m [inlined]\u001b[39m\n",
      " [14] \u001b[0m\u001b[1minvoke_in_world\u001b[22m\n",
      "\u001b[90m    @\u001b[39m \u001b[90m./\u001b[39m\u001b[90m\u001b[4messentials.jl:1086\u001b[24m\u001b[39m\u001b[90m [inlined]\u001b[39m\n",
      " [15] \u001b[0m\u001b[1m_require_prelocked\u001b[22m\u001b[0m\u001b[1m(\u001b[22m\u001b[90muuidkey\u001b[39m::\u001b[0mBase.PkgId, \u001b[90menv\u001b[39m::\u001b[0mString\u001b[0m\u001b[1m)\u001b[22m\n",
      "\u001b[90m    @\u001b[39m \u001b[90mBase\u001b[39m \u001b[90m./\u001b[39m\u001b[90m\u001b[4mloading.jl:2375\u001b[24m\u001b[39m\n",
      " [16] \u001b[0m\u001b[1mmacro expansion\u001b[22m\n",
      "\u001b[90m    @\u001b[39m \u001b[90m./\u001b[39m\u001b[90m\u001b[4mloading.jl:2314\u001b[24m\u001b[39m\u001b[90m [inlined]\u001b[39m\n",
      " [17] \u001b[0m\u001b[1mmacro expansion\u001b[22m\n",
      "\u001b[90m    @\u001b[39m \u001b[90m./\u001b[39m\u001b[90m\u001b[4mlock.jl:273\u001b[24m\u001b[39m\u001b[90m [inlined]\u001b[39m\n",
      " [18] \u001b[0m\u001b[1m__require\u001b[22m\u001b[0m\u001b[1m(\u001b[22m\u001b[90minto\u001b[39m::\u001b[0mModule, \u001b[90mmod\u001b[39m::\u001b[0mSymbol\u001b[0m\u001b[1m)\u001b[22m\n",
      "\u001b[90m    @\u001b[39m \u001b[90mBase\u001b[39m \u001b[90m./\u001b[39m\u001b[90m\u001b[4mloading.jl:2271\u001b[24m\u001b[39m\n",
      " [19] \u001b[0m\u001b[1m#invoke_in_world#3\u001b[22m\n",
      "\u001b[90m    @\u001b[39m \u001b[90m./\u001b[39m\u001b[90m\u001b[4messentials.jl:1089\u001b[24m\u001b[39m\u001b[90m [inlined]\u001b[39m\n",
      " [20] \u001b[0m\u001b[1minvoke_in_world\u001b[22m\n",
      "\u001b[90m    @\u001b[39m \u001b[90m./\u001b[39m\u001b[90m\u001b[4messentials.jl:1086\u001b[24m\u001b[39m\u001b[90m [inlined]\u001b[39m\n",
      " [21] \u001b[0m\u001b[1mrequire\u001b[22m\u001b[0m\u001b[1m(\u001b[22m\u001b[90minto\u001b[39m::\u001b[0mModule, \u001b[90mmod\u001b[39m::\u001b[0mSymbol\u001b[0m\u001b[1m)\u001b[22m\n",
      "\u001b[90m    @\u001b[39m \u001b[90mBase\u001b[39m \u001b[90m./\u001b[39m\u001b[90m\u001b[4mloading.jl:2260\u001b[24m\u001b[39m\n",
      " [22] \u001b[0m\u001b[1minclude\u001b[22m\n",
      "\u001b[90m    @\u001b[39m \u001b[90m./\u001b[39m\u001b[90m\u001b[4mBase.jl:557\u001b[24m\u001b[39m\u001b[90m [inlined]\u001b[39m\n",
      " [23] \u001b[0m\u001b[1minclude_package_for_output\u001b[22m\u001b[0m\u001b[1m(\u001b[22m\u001b[90mpkg\u001b[39m::\u001b[0mBase.PkgId, \u001b[90minput\u001b[39m::\u001b[0mString, \u001b[90mdepot_path\u001b[39m::\u001b[0mVector\u001b[90m{String}\u001b[39m, \u001b[90mdl_load_path\u001b[39m::\u001b[0mVector\u001b[90m{String}\u001b[39m, \u001b[90mload_path\u001b[39m::\u001b[0mVector\u001b[90m{String}\u001b[39m, \u001b[90mconcrete_deps\u001b[39m::\u001b[0mVector\u001b[90m{Pair{Base.PkgId, UInt128}}\u001b[39m, \u001b[90msource\u001b[39m::\u001b[0mString\u001b[0m\u001b[1m)\u001b[22m\n",
      "\u001b[90m    @\u001b[39m \u001b[90mBase\u001b[39m \u001b[90m./\u001b[39m\u001b[90m\u001b[4mloading.jl:2881\u001b[24m\u001b[39m\n",
      " [24] top-level scope\n",
      "\u001b[90m    @\u001b[39m \u001b[90m\u001b[4mstdin:6\u001b[24m\u001b[39m\n",
      "in expression starting at /Users/remy/.julia/packages/DifferentialEquations/eQbP8/src/DifferentialEquations.jl:1\n",
      "in expression starting at stdin:6\n"
     ]
    },
    {
     "ename": "ErrorException",
     "evalue": "Failed to precompile DifferentialEquations [0c46a032-eb83-5123-abaf-570d42b7fbaa] to \"/Users/remy/.julia/compiled/v1.11/DifferentialEquations/jl_ZoSRqO\".",
     "output_type": "error",
     "traceback": [
      "Failed to precompile DifferentialEquations [0c46a032-eb83-5123-abaf-570d42b7fbaa] to \"/Users/remy/.julia/compiled/v1.11/DifferentialEquations/jl_ZoSRqO\".\n",
      "\n",
      "Stacktrace:\n",
      "  [1] error(s::String)\n",
      "    @ Base ./error.jl:35\n",
      "  [2] compilecache(pkg::Base.PkgId, path::String, internal_stderr::IO, internal_stdout::IO, keep_loaded_modules::Bool; flags::Cmd, cacheflags::Base.CacheFlags, reasons::Dict{String, Int64}, loadable_exts::Nothing)\n",
      "    @ Base ./loading.jl:3174\n",
      "  [3] (::Base.var\"#1110#1111\"{Base.PkgId})()\n",
      "    @ Base ./loading.jl:2579\n",
      "  [4] mkpidlock(f::Base.var\"#1110#1111\"{Base.PkgId}, at::String, pid::Int32; kwopts::@Kwargs{stale_age::Int64, wait::Bool})\n",
      "    @ FileWatching.Pidfile /Applications/Julia-1.11.app/Contents/Resources/julia/share/julia/stdlib/v1.11/FileWatching/src/pidfile.jl:95\n",
      "  [5] #mkpidlock#6\n",
      "    @ /Applications/Julia-1.11.app/Contents/Resources/julia/share/julia/stdlib/v1.11/FileWatching/src/pidfile.jl:90 [inlined]\n",
      "  [6] trymkpidlock(::Function, ::Vararg{Any}; kwargs::@Kwargs{stale_age::Int64})\n",
      "    @ FileWatching.Pidfile /Applications/Julia-1.11.app/Contents/Resources/julia/share/julia/stdlib/v1.11/FileWatching/src/pidfile.jl:116\n",
      "  [7] #invokelatest#2\n",
      "    @ ./essentials.jl:1057 [inlined]\n",
      "  [8] invokelatest\n",
      "    @ ./essentials.jl:1052 [inlined]\n",
      "  [9] maybe_cachefile_lock(f::Base.var\"#1110#1111\"{Base.PkgId}, pkg::Base.PkgId, srcpath::String; stale_age::Int64)\n",
      "    @ Base ./loading.jl:3698\n",
      " [10] maybe_cachefile_lock\n",
      "    @ ./loading.jl:3695 [inlined]\n",
      " [11] _require(pkg::Base.PkgId, env::String)\n",
      "    @ Base ./loading.jl:2565\n",
      " [12] __require_prelocked(uuidkey::Base.PkgId, env::String)\n",
      "    @ Base ./loading.jl:2388\n",
      " [13] #invoke_in_world#3\n",
      "    @ ./essentials.jl:1089 [inlined]\n",
      " [14] invoke_in_world\n",
      "    @ ./essentials.jl:1086 [inlined]\n",
      " [15] _require_prelocked(uuidkey::Base.PkgId, env::String)\n",
      "    @ Base ./loading.jl:2375\n",
      " [16] macro expansion\n",
      "    @ ./loading.jl:2314 [inlined]\n",
      " [17] macro expansion\n",
      "    @ ./lock.jl:273 [inlined]\n",
      " [18] __require(into::Module, mod::Symbol)\n",
      "    @ Base ./loading.jl:2271\n",
      " [19] #invoke_in_world#3\n",
      "    @ ./essentials.jl:1089 [inlined]\n",
      " [20] invoke_in_world\n",
      "    @ ./essentials.jl:1086 [inlined]\n",
      " [21] require(into::Module, mod::Symbol)\n",
      "    @ Base ./loading.jl:2260\n",
      " [22] eval\n",
      "    @ ./boot.jl:430 [inlined]\n",
      " [23] include_string(mapexpr::typeof(REPL.softscope), mod::Module, code::String, filename::String)\n",
      "    @ Base ./loading.jl:2734\n",
      " [24] #invokelatest#2\n",
      "    @ ./essentials.jl:1055 [inlined]\n",
      " [25] invokelatest\n",
      "    @ ./essentials.jl:1052 [inlined]\n",
      " [26] (::VSCodeServer.var\"#217#218\"{VSCodeServer.NotebookRunCellArguments, String})()\n",
      "    @ VSCodeServer ~/.vscode/extensions/julialang.language-julia-1.149.2/scripts/packages/VSCodeServer/src/serve_notebook.jl:24\n",
      " [27] withpath(f::VSCodeServer.var\"#217#218\"{VSCodeServer.NotebookRunCellArguments, String}, path::String)\n",
      "    @ VSCodeServer ~/.vscode/extensions/julialang.language-julia-1.149.2/scripts/packages/VSCodeServer/src/repl.jl:276\n",
      " [28] notebook_runcell_request(conn::VSCodeServer.JSONRPC.JSONRPCEndpoint{Base.PipeEndpoint, Base.PipeEndpoint, VSCodeServer.JSON.Serializations.StandardSerialization}, params::VSCodeServer.NotebookRunCellArguments, token::VSCodeServer.CancellationTokens.CancellationToken)\n",
      "    @ VSCodeServer ~/.vscode/extensions/julialang.language-julia-1.149.2/scripts/packages/VSCodeServer/src/serve_notebook.jl:13\n",
      " [29] dispatch_msg(x::VSCodeServer.JSONRPC.JSONRPCEndpoint{Base.PipeEndpoint, Base.PipeEndpoint, VSCodeServer.JSON.Serializations.StandardSerialization}, dispatcher::VSCodeServer.JSONRPC.MsgDispatcher, msg::VSCodeServer.JSONRPC.Request)\n",
      "    @ VSCodeServer.JSONRPC ~/.vscode/extensions/julialang.language-julia-1.149.2/scripts/packages/JSONRPC/src/typed.jl:68\n",
      " [30] serve_notebook(pipename::String, debugger_pipename::String, outputchannel_logger::Base.CoreLogging.SimpleLogger; error_handler::var\"#5#10\"{String})\n",
      "    @ VSCodeServer ~/.vscode/extensions/julialang.language-julia-1.149.2/scripts/packages/VSCodeServer/src/serve_notebook.jl:147\n",
      " [31] top-level scope\n",
      "    @ ~/.vscode/extensions/julialang.language-julia-1.149.2/scripts/notebook/notebook.jl:35"
     ]
    }
   ],
   "source": [
    "using QuantumOptics\n",
    "using PyPlot\n",
    "using DifferentialEquations\n",
    "using CollectiveSpins\n",
    "using JLD2"
   ]
  },
  {
   "cell_type": "code",
   "execution_count": 2,
   "id": "6dd87fa5",
   "metadata": {},
   "outputs": [
    {
     "data": {
      "text/plain": [
       "compute_H_SFE"
      ]
     },
     "metadata": {},
     "output_type": "display_data"
    }
   ],
   "source": [
    "function H_DE(t, rho)\n",
    "    E = E0*exp(-1im*ωl*t) + conj(E0)*exp(1im*ωl*t)  # Champ électrique\n",
    "    H0 = (ω0/2) * Jz  # Hamiltonien sans interaction\n",
    "    Hint = -d_eg * E * Jx  # Interaction dipôle-champ\n",
    "    return H0 + Hint + compute_H_SFE(N, bMB, Ω_CS), J, dagger.(J), Γ_CS\n",
    "end\n",
    "\n",
    "function H_RWA(t, psi)\n",
    "    H_RWA = ω0/2*Jz - (Ω_rabi*exp(-1im*ωl*t)*Jp + conj(Ω_rabi)*exp(1im*ωl*t)*Jm)\n",
    "    return H_RWA + compute_H_SFE(N, bMB, Ω_CS), J, dagger.(J), Γ_CS\n",
    "end\n",
    "\n",
    "\"\"\" Compute the spin flip exchange hamiltonian \"\"\"\n",
    "function compute_H_SFE(N, bMB, Ω_CSC)\n",
    "    H = SparseOperator(bMB)\n",
    "    \n",
    "    for i=1:N, j=1:N\n",
    "        if i==j\n",
    "            continue\n",
    "        end\n",
    "        \n",
    "        H += Ω_CSC[i, j] * embed(bMB, i, sp)*embed(bMB, j, sm)\n",
    "        \n",
    "    end\n",
    "    return H\n",
    "end"
   ]
  },
  {
   "cell_type": "code",
   "execution_count": 3,
   "id": "d22cd916",
   "metadata": {},
   "outputs": [
    {
     "ename": "UndefVarError",
     "evalue": "UndefVarError: `geometry` not defined in `Main`\nSuggestion: check for spelling errors or missing imports.",
     "output_type": "error",
     "traceback": [
      "UndefVarError: `geometry` not defined in `Main`\n",
      "Suggestion: check for spelling errors or missing imports.\n",
      "\n",
      "Stacktrace:\n",
      " [1] top-level scope\n",
      "   @ ~/Documents/Remy/ENSL_2024_2025/Stage_M2/Codes/Superradiance/Checked_codes/RabiOscillations/jl_notebook_cell_df34fa98e69747e1a8f8a730347b8e2f_W2sZmlsZQ==.jl:11"
     ]
    }
   ],
   "source": [
    "# Define geometry of system\n",
    "Nx,Ny,Nz = [2,2,2]\n",
    "N = Nx*Ny*Nz\n",
    "d_xy, d_z = 266., 532. # Optical lattice spacing in nm\n",
    "e = [0,0,1]   # Quantization axis\n",
    "Γ0 = 1. # In Hz\n",
    "\n",
    "λ = 1299.\n",
    "\n",
    "a,b,c = [d_xy,d_xy,d_z]/λ\n",
    "geo = geometry.box(a,b,c;Nx=Nx,Ny=Ny,Nz=Nz)\n",
    "system = SpinCollection(geo, e, gammas=1.)\n",
    "\n",
    "d_eg = 1.0\n",
    "E0 = 1.0 + 0im\n",
    "ωl = 100\n",
    "ω0 = 101\n",
    "Ω_rabi = d_eg*E0\n",
    "\n",
    "\n",
    "Tstep, Tend = 1e-3, 5 # Normalised by Γ0\n",
    "T = [0:Tstep:Tend;];"
   ]
  },
  {
   "cell_type": "code",
   "execution_count": 10,
   "id": "4db46b24",
   "metadata": {},
   "outputs": [
    {
     "data": {
      "text/plain": [
       "2.3094688221709006e14"
      ]
     },
     "metadata": {},
     "output_type": "display_data"
    }
   ],
   "source": [
    "3e8/(1299e-9)"
   ]
  },
  {
   "cell_type": "markdown",
   "id": "8cf0c9a9",
   "metadata": {},
   "source": []
  },
  {
   "cell_type": "code",
   "execution_count": 4,
   "id": "7abca08e",
   "metadata": {},
   "outputs": [
    {
     "ename": "UndefVarError",
     "evalue": "UndefVarError: `CollectiveSpins` not defined in `Main`\nSuggestion: check for spelling errors or missing imports.",
     "output_type": "error",
     "traceback": [
      "UndefVarError: `CollectiveSpins` not defined in `Main`\n",
      "Suggestion: check for spelling errors or missing imports.\n",
      "\n",
      "Stacktrace:\n",
      " [1] top-level scope\n",
      "   @ ~/Documents/Remy/ENSL_2024_2025/Stage_M2/Codes/Superradiance/Checked_codes/RabiOscillations/jl_notebook_cell_df34fa98e69747e1a8f8a730347b8e2f_W3sZmlsZQ==.jl:1"
     ]
    }
   ],
   "source": [
    "Ω_CS = CollectiveSpins.OmegaMatrix(system)\n",
    "Γ_CS = CollectiveSpins.GammaMatrix(system);"
   ]
  },
  {
   "cell_type": "code",
   "execution_count": 5,
   "id": "9c7d44e7",
   "metadata": {},
   "outputs": [
    {
     "ename": "UndefVarError",
     "evalue": "UndefVarError: `d_eg` not defined in `Main`\nSuggestion: check for spelling errors or missing imports.",
     "output_type": "error",
     "traceback": [
      "UndefVarError: `d_eg` not defined in `Main`\n",
      "Suggestion: check for spelling errors or missing imports.\n",
      "\n",
      "Stacktrace:\n",
      " [1] top-level scope\n",
      "   @ ~/Documents/Remy/ENSL_2024_2025/Stage_M2/Codes/Superradiance/Checked_codes/RabiOscillations/jl_notebook_cell_df34fa98e69747e1a8f8a730347b8e2f_W4sZmlsZQ==.jl:21"
     ]
    }
   ],
   "source": [
    "# Define Spin basis/operators\n",
    "b_spin = SpinBasis(1//2)\n",
    "bMB = CompositeBasis([b_spin for i = 1:N])\n",
    "sm = sigmam(b_spin)\n",
    "sp = sigmap(b_spin)\n",
    "sx = sigmax(b_spin)\n",
    "sy = sigmay(b_spin)\n",
    "sz = sigmaz(b_spin)\n",
    "\n",
    "\n",
    "# Many body operators\n",
    "Jx = sum([embed(bMB, i, sx) for i = 1:N])\n",
    "Jy = sum([embed(bMB, i, sy) for i = 1:N])\n",
    "Jz = sum([embed(bMB, i, sz) for i = 1:N])\n",
    "Jp = sum([embed(bMB, i, sp) for i = 1:N])\n",
    "Jm = sum([embed(bMB, i, sm) for i = 1:N])\n",
    "\n",
    "J = [embed(bMB, i, sm) for i = 1:N];\n",
    "\n",
    "# Operators of the system. We suppose d // E\n",
    "d_op = d_eg*sp + conj(d_eg)*sm\n",
    "\n",
    "# Initial state\n",
    "Ψ0 = CollectiveSpins.quantum.blochstate(0., 0., N);"
   ]
  },
  {
   "cell_type": "code",
   "execution_count": 6,
   "id": "7268d9cb",
   "metadata": {},
   "outputs": [
    {
     "ename": "UndefVarError",
     "evalue": "UndefVarError: `T` not defined in `Main`\nSuggestion: check for spelling errors or missing imports.",
     "output_type": "error",
     "traceback": [
      "UndefVarError: `T` not defined in `Main`\n",
      "Suggestion: check for spelling errors or missing imports.\n",
      "\n",
      "Stacktrace:\n",
      " [1] top-level scope\n",
      "   @ ~/Documents/Remy/ENSL_2024_2025/Stage_M2/Codes/Superradiance/Checked_codes/RabiOscillations/jl_notebook_cell_df34fa98e69747e1a8f8a730347b8e2f_W5sZmlsZQ==.jl:1"
     ]
    }
   ],
   "source": [
    "ρt = timeevolution.master_dynamic(T, Ψ0, H_DE)[2]\n",
    "ρt_RWA = timeevolution.master_dynamic(T, Ψ0, H_RWA)[2];"
   ]
  },
  {
   "cell_type": "code",
   "execution_count": 7,
   "id": "6eaf6271",
   "metadata": {},
   "outputs": [],
   "source": [
    "#@save \"RO_CS.jld2\" ρt ρt_RWA"
   ]
  },
  {
   "cell_type": "code",
   "execution_count": 8,
   "id": "854e4788",
   "metadata": {},
   "outputs": [
    {
     "ename": "UndefVarError",
     "evalue": "UndefVarError: `ρt` not defined in `Main`\nSuggestion: check for spelling errors or missing imports.",
     "output_type": "error",
     "traceback": [
      "UndefVarError: `ρt` not defined in `Main`\n",
      "Suggestion: check for spelling errors or missing imports.\n",
      "\n",
      "Stacktrace:\n",
      " [1] top-level scope\n",
      "   @ ~/Documents/Remy/ENSL_2024_2025/Stage_M2/Codes/Superradiance/Checked_codes/RabiOscillations/jl_notebook_cell_df34fa98e69747e1a8f8a730347b8e2f_X10sZmlsZQ==.jl:6"
     ]
    }
   ],
   "source": [
    "close(\"all\")\n",
    "pygui(false)\n",
    "\n",
    "PyPlot.rc(\"font\", size = 12)\n",
    "\n",
    "plot(T, real(expect(Jz, ρt))./N, label=\"Full solution\")\n",
    "plot(T, real(expect(Jz, ρt_RWA))./N, label=\"RWA\")\n",
    "\n",
    "xlabel(L\"t/\\tau (AU)\", fontsize=16)\n",
    "ylabel(L\"\\langle\\sigma_z\\rangle\", fontsize=16)\n",
    "legend()\n",
    "\n",
    "#savefig(\"/Users/remy/Documents/Remy/ENSL_2024_2025/Stage_M2/Rapport_Stage_M2/Figures/RO_CS.pdf\", bbox_inches=\"tight\")\n",
    "\n",
    "\n",
    "gcf()"
   ]
  }
 ],
 "metadata": {
  "kernelspec": {
   "display_name": "Julia 1.11.4",
   "language": "julia",
   "name": "julia-1.11"
  },
  "language_info": {
   "file_extension": ".jl",
   "mimetype": "application/julia",
   "name": "julia",
   "version": "1.11.4"
  }
 },
 "nbformat": 4,
 "nbformat_minor": 5
}
