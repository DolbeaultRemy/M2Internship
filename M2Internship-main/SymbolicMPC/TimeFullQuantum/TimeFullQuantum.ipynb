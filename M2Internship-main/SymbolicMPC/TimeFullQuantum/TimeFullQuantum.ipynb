{
 "cells": [
  {
   "cell_type": "code",
   "execution_count": 1,
   "id": "acb7dbdf",
   "metadata": {},
   "outputs": [],
   "source": [
    "using QuantumOptics\n",
    "using CollectiveSpins\n",
    "using Random"
   ]
  },
  {
   "cell_type": "code",
   "execution_count": 2,
   "id": "fc698b04",
   "metadata": {},
   "outputs": [
    {
     "data": {
      "text/plain": [
       "prepare_phi_IS"
      ]
     },
     "metadata": {},
     "output_type": "display_data"
    }
   ],
   "source": [
    "\"\"\" Return H_ZZ for the spin collection S \"\"\"\n",
    "function compute_H_ZZ(Nx, Ny, Nz, bMB, Ω_ZZ_coeff)\n",
    "    H = SparseOperator(bMB)\n",
    "    Matidx = reshape([1:N;], Nx, Ny, Nz)\n",
    "    \n",
    "    for i=1:N\n",
    "        idx = findall(x->x==i, Matidx)[1]\n",
    "        x, y, z = idx[1], idx[2], idx[3]\n",
    "\n",
    "        # Neighbourg displacment\n",
    "        neighbors = [\n",
    "        (1, 0, 0), (-1, 0, 0),\n",
    "        (0, 1, 0), (0, -1, 0),\n",
    "        (0, 0, 1), (0, 0, -1)\n",
    "        ]\n",
    "\n",
    "        for (dx, dy, dz) in neighbors\n",
    "            xj, yj, zj = x + dx, y + dy, z + dz\n",
    "            # Check if neighbours are on the lattice\n",
    "            if 1 <= xj <= Nx && 1 <= yj <= Ny && 1 <= zj <= Nz\n",
    "                j = LinearIndices((Nx, Ny, Nz))[xj, yj, zj]\n",
    "                \n",
    "                H += (Ω_ZZ_coeff[1] * embed(bMB, i, σp*σm)*embed(bMB, j, σp*σm) + \n",
    "                    Ω_ZZ_coeff[2] * (embed(bMB, i, σp*σm)*embed(bMB, j, σm*σp) + embed(bMB, i, σm*σp)*embed(bMB, j, σp*σm)) + \n",
    "                    Ω_ZZ_coeff[3] * embed(bMB, i, σm*σp)*embed(bMB, j, σm*σp))\n",
    "            end\n",
    "        end\n",
    "    end\n",
    "    return H\n",
    "end\n",
    "\n",
    "\"\"\" Compute the spin flip exchange hamiltonian \"\"\"\n",
    "function compute_H_SFE(N, bMB, Ω_CSC)\n",
    "    H = SparseOperator(bMB)\n",
    "    \n",
    "    for i=1:N, j=1:N\n",
    "        if i==j\n",
    "            continue\n",
    "        end\n",
    "        \n",
    "        H += Ω_CSC[i, j] * embed(bMB, i, σp)*embed(bMB, j, σm)\n",
    "        \n",
    "    end\n",
    "    return H\n",
    "end\n",
    "\n",
    "\"\"\" Prepare the initial state of the system \n",
    "with a phase correlation imposed between the atoms\n",
    "because the laser arrive on the lattice with an angle θl \"\"\"\n",
    "function prepare_phi_IS(θl, λl, theta_array)\n",
    "    phi_array = zeros(N)\n",
    "    for i = 1:N\n",
    "        phi_array[i] = 2pi * sqrt(sum((system.spins[i].position .* [cos(θl), sin(θl), 0]) .^ 2))\n",
    "    end\n",
    "    return phi_array\n",
    "end"
   ]
  },
  {
   "cell_type": "code",
   "execution_count": 3,
   "id": "9d97b643",
   "metadata": {},
   "outputs": [],
   "source": [
    "# Define geometry of system\n",
    "Nx,Ny,Nz = [2,1,1]\n",
    "N = Nx*Ny*Nz\n",
    "NES = N\n",
    "\n",
    "# Normalization variables\n",
    "λl = 1299. # In nm\n",
    "Γ0 = 1. # In Hz\n",
    "\n",
    "# Creating the lattice\n",
    "a_dim, b_dim, c_dim = [266., 266., 532.]./λl # Dimension of the lattice normalized\n",
    "geo = CollectiveSpins.geometry.box(a_dim,b_dim,c_dim;Nx=Nx,Ny=Ny,Nz=Nz)\n",
    "e = [0,0,1]   # Quantization axis\n",
    "system = CollectiveSpins.SpinCollection(geo, e, gammas=1.)\n",
    "\n",
    "# Initial state\n",
    "θl = 30*pi/180\n",
    "theta = π/2\n",
    "theta_array = shuffle(vcat(ones(Int, NES)*theta, ones(Int, N-NES)*π))\n",
    "phi_array = prepare_phi_IS(θl, λl, theta_array)\n",
    "\n",
    "# Constante variable\n",
    "Ω_ZZ_coeff = [53, 42, 33]./Γ0 # Normalized by Γ0, [up/up (-7/-7), up/down (-7/-6), down, down (-6/-6)]\n",
    "\n",
    "# Integration time\n",
    "Tstep, Tend = 1e-3, 1 # Normalised time (t/τ)\n",
    "T = [0:Tstep:Tend;];"
   ]
  },
  {
   "cell_type": "code",
   "execution_count": 4,
   "id": "9b46e935",
   "metadata": {},
   "outputs": [],
   "source": [
    "# Basis\n",
    "b1 = SpinBasis(1//2)\n",
    "bMB = CompositeBasis([b1 for i = 1:N])\n",
    "\n",
    "# Single atom operators\n",
    "σx = sigmax(b1)\n",
    "σy = sigmay(b1)\n",
    "σz = sigmaz(b1)\n",
    "σp = sigmap(b1)\n",
    "σm = sigmam(b1)\n",
    "\n",
    "# Single atoms σz for a -6/-7 system\n",
    "σz67 = -7*(σp*σm) -6*(σm*σp)\n",
    "\n",
    "# Many body operators\n",
    "Jx = sum([embed(bMB, i, σx) for i = 1:N])\n",
    "Jy = sum([embed(bMB, i, σy) for i = 1:N])\n",
    "Jz67 = sum([embed(bMB, i, σz67) for i = 1:N]);"
   ]
  },
  {
   "cell_type": "code",
   "execution_count": 5,
   "id": "160d9b07",
   "metadata": {},
   "outputs": [],
   "source": [
    "Ω_CS = CollectiveSpins.OmegaMatrix(system)\n",
    "Γ_CS = CollectiveSpins.GammaMatrix(system)\n",
    "\n",
    "# Hamiltonian\n",
    "HCS = compute_H_SFE(N, bMB, Ω_CS)\n",
    "HZZ = compute_H_ZZ(Nx, Ny, Nz, bMB, Ω_ZZ_coeff)\n",
    "H = HCS + HZZ\n",
    "\n",
    "# Construct Jump operators\n",
    "J = [embed(bMB, i, σm) for i = 1:N];"
   ]
  },
  {
   "cell_type": "code",
   "execution_count": 6,
   "id": "9ce87375",
   "metadata": {},
   "outputs": [
    {
     "name": "stdout",
     "output_type": "stream",
     "text": [
      "  4.767577 seconds (19.46 M allocations: 1004.980 MiB, 10.48% gc time, 99.97% compilation time)\n"
     ]
    }
   ],
   "source": [
    "Ψ0 = CollectiveSpins.quantum.blochstate(phi_array, theta_array)\n",
    "@time begin\n",
    "    ρt = timeevolution.master(T, Ψ0, H, J, rates=Γ_CS, dt=Tstep)[2];\n",
    "end\n",
    "nothing"
   ]
  },
  {
   "cell_type": "code",
   "execution_count": 7,
   "id": "c98a4d5f",
   "metadata": {},
   "outputs": [],
   "source": []
  }
 ],
 "metadata": {
  "kernelspec": {
   "display_name": "Julia 1.11.5",
   "language": "julia",
   "name": "julia-1.11"
  },
  "language_info": {
   "file_extension": ".jl",
   "mimetype": "application/julia",
   "name": "julia",
   "version": "1.11.5"
  }
 },
 "nbformat": 4,
 "nbformat_minor": 5
}
