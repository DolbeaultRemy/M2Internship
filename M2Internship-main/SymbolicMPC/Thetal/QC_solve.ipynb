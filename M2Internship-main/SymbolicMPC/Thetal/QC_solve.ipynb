{
 "cells": [
  {
   "cell_type": "code",
   "execution_count": 6,
   "id": "07f91b4f",
   "metadata": {},
   "outputs": [],
   "source": [
    "using CollectiveSpins\n",
    "using PyPlot\n",
    "using Statistics\n",
    "using JLD2\n",
    "using ProgressMeter\n",
    "using QuantumOptics\n",
    "using OrdinaryDiffEq"
   ]
  },
  {
   "cell_type": "code",
   "execution_count": 7,
   "id": "7bff826d",
   "metadata": {},
   "outputs": [
    {
     "data": {
      "text/plain": [
       "u0_CFunction"
      ]
     },
     "metadata": {},
     "output_type": "display_data"
    }
   ],
   "source": [
    "\"\"\" Prepare the initial state of the system \n",
    "with a phase correlation imposed between the atoms\n",
    "because the laser arrive on the lattice with an angle θl \"\"\"\n",
    "function prepare_phi_IS(θl, λl, theta_array)\n",
    "    phi_array = zeros(N)\n",
    "    for i = 1:N\n",
    "        phi_array[i] = 2pi * sqrt(sum((system.spins[i].position .* [cos(θl), sin(θl), 0]) .^ 2))\n",
    "    end\n",
    "    return phi_array\n",
    "end\n",
    "\n",
    "\"\"\" Prepare the initial vector u0 \"\"\"\n",
    "function u0_CFunction(phi_array, theta_array, op_list)\n",
    "    u0 = ones(ComplexF64, length(op_list))\n",
    "    for i in 1:length(op_list)\n",
    "        if length(op_list[i]) == 1\n",
    "            j = Int(op_list[i][1] % 10^floor(log10(abs(op_list[i][1]))-1)) # Atom nbr\n",
    "            if parse(Int, string(op_list[i][1])[1:2]) == 22\n",
    "                u0[i] = cos(theta_array[j]/2)^2\n",
    "            elseif parse(Int, string(op_list[i][1])[1:2]) == 21\n",
    "                u0[i] = cos(theta_array[j]/2)*exp(1im*phi_array[j])*sin(theta_array[j]/2)\n",
    "            else\n",
    "                println(op_list[i][1])\n",
    "            end\n",
    "        end\n",
    "\n",
    "        if length(op_list[i]) == 2\n",
    "            for op in op_list[i]\n",
    "                j = Int(op % 10^floor(log10(abs(op))-1)) # Atom nbr\n",
    "                if parse(Int, string(op)[1:2]) == 22\n",
    "                    u0[i] *= cos(theta_array[j]/2)^2\n",
    "                elseif parse(Int, string(op)[1:2]) == 21\n",
    "                    u0[i] *= cos(theta_array[j]/2)*exp(1im*phi_array[j])*sin(theta_array[j]/2)\n",
    "                elseif parse(Int, string(op)[1:2]) == 12\n",
    "                    u0[i] *= cos(theta_array[j]/2)*exp(-1im*phi_array[j])*sin(theta_array[j]/2)\n",
    "                else\n",
    "                    println(op)\n",
    "                end\n",
    "            end\n",
    "        end\n",
    "    end\n",
    "    return u0\n",
    "end"
   ]
  },
  {
   "cell_type": "markdown",
   "id": "1f5e9046",
   "metadata": {},
   "source": [
    "### Define the system"
   ]
  },
  {
   "cell_type": "code",
   "execution_count": 8,
   "id": "2fb922af",
   "metadata": {},
   "outputs": [],
   "source": [
    "# Define geometry of system\n",
    "Nx,Ny,Nz = [5,5,1]\n",
    "N = Nx*Ny*Nz\n",
    "d_xy, d_z = 266., 532. # Optical lattice spacing in nm\n",
    "e = [0,0,1]   # Quantization axis\n",
    "\n",
    "# Initial values\n",
    "theta_init = pi/2\n",
    "phi_init = 1 # 1 if laser induced correlations between the atoms, 0 else\n",
    "\n",
    "λ = 1299.\n",
    "θl_array = range(0, pi/2, 50) # Angle of the laser\n",
    "\n",
    "a,b,c = [d_xy,d_xy,d_z]/λ\n",
    "geo = geometry.box(a,b,c;Nx=Nx,Ny=Ny,Nz=Nz)\n",
    "system = SpinCollection(geo, e, gammas=1.)\n",
    "\n",
    "Tstep, Tend = 1e-3, 1 # Normalised by Γ0\n",
    "T = [0:Tstep:Tend;];"
   ]
  },
  {
   "cell_type": "markdown",
   "id": "d7be78f8",
   "metadata": {},
   "source": [
    "### Loop over thetal"
   ]
  },
  {
   "cell_type": "code",
   "execution_count": 9,
   "id": "effe4d10",
   "metadata": {},
   "outputs": [
    {
     "name": "stderr",
     "output_type": "stream",
     "text": [
      "\u001b[32mProgress: 100%|█████████████████████████████████████████| Time: 0:54:50\u001b[39m\u001b[K\n"
     ]
    }
   ],
   "source": [
    "@load \"op_list.jdl2\" op_list\n",
    "theta_array = ones(N)*theta_init\n",
    "fsolve(du, u, p, t) = ccall((\"diffeqf\", \"liballfuncs.dll\"), Cvoid, (Ptr{ComplexF64}, Ptr{ComplexF64}), du, u)\n",
    "isdir(\"Solutions\") || mkdir(\"Solutions\")\n",
    "\n",
    "\n",
    "@showprogress for θl in θl_array\n",
    "    phi_array = prepare_phi_IS(θl, λ, theta_array)*phi_init;\n",
    "    u0 = u0_CFunction(phi_array, theta_array, op_list);\n",
    "    Nvar = length(u0)\n",
    "    prob = OrdinaryDiffEq.ODEProblem(fsolve, u0, (T[1], T[end]))\n",
    "    sol = OrdinaryDiffEq.solve(prob, OrdinaryDiffEq.DP5(), saveat=T;\n",
    "            reltol=1.0e-6,\n",
    "            abstol=1.0e-8).u;\n",
    "    @save \"Solutions/Sol_QC_Nx_$(Nx)_Ny_$(Ny)_Nz_$(Nz)_theta_$(round(theta_init, digits=1))_phi_$(phi_init)_thetal_$(round(θl, digits=2))\" sol\n",
    "end"
   ]
  },
  {
   "cell_type": "code",
   "execution_count": 10,
   "id": "580c92a9",
   "metadata": {},
   "outputs": [],
   "source": []
  }
 ],
 "metadata": {
  "kernelspec": {
   "display_name": "Julia 1.11.5",
   "language": "julia",
   "name": "julia-1.11"
  },
  "language_info": {
   "file_extension": ".jl",
   "mimetype": "application/julia",
   "name": "julia",
   "version": "1.11.5"
  }
 },
 "nbformat": 4,
 "nbformat_minor": 5
}
