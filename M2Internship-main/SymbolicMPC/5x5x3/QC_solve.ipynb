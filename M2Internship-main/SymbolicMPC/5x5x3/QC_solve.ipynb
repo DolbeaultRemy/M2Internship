{
 "cells": [
  {
   "cell_type": "code",
   "execution_count": 1,
   "id": "07f91b4f",
   "metadata": {},
   "outputs": [],
   "source": [
    "using CollectiveSpins\n",
    "using PyPlot\n",
    "using Statistics\n",
    "using JLD2\n",
    "using ProgressMeter\n",
    "using QuantumOptics\n",
    "using OrdinaryDiffEq\n",
    "using Libdl"
   ]
  },
  {
   "cell_type": "code",
   "execution_count": 2,
   "id": "7bff826d",
   "metadata": {},
   "outputs": [
    {
     "data": {
      "text/plain": [
       "fsolve"
      ]
     },
     "metadata": {},
     "output_type": "display_data"
    }
   ],
   "source": [
    "\"\"\" Prepare the initial state of the system \n",
    "with a phase correlation imposed between the atoms\n",
    "because the laser arrive on the lattice with an angle θl \"\"\"\n",
    "function prepare_phi_IS(θl, λl, theta_array)\n",
    "    phi_array = zeros(N)\n",
    "    for i = 1:N\n",
    "        phi_array[i] = 2pi * sqrt(sum((system.spins[i].position .* [cos(θl), sin(θl), 0]) .^ 2))\n",
    "    end\n",
    "    return phi_array\n",
    "end\n",
    "\n",
    "\"\"\" Prepare the initial vector u0 \"\"\"\n",
    "function u0_CFunction(phi_array, theta_array, op_list)\n",
    "    u0 = ones(ComplexF64, length(op_list))\n",
    "    for i in 1:length(op_list)\n",
    "        if length(op_list[i]) == 1\n",
    "            j = Int(op_list[i][1] % 10^floor(log10(abs(op_list[i][1]))-1)) # Atom nbr\n",
    "            if parse(Int, string(op_list[i][1])[1:2]) == 22\n",
    "                u0[i] = cos(theta_array[j]/2)^2\n",
    "            elseif parse(Int, string(op_list[i][1])[1:2]) == 21\n",
    "                u0[i] = cos(theta_array[j]/2)*exp(1im*phi_array[j])*sin(theta_array[j]/2)\n",
    "            else\n",
    "                println(op_list[i][1])\n",
    "            end\n",
    "        end\n",
    "\n",
    "        if length(op_list[i]) == 2\n",
    "            for op in op_list[i]\n",
    "                j = Int(op % 10^floor(log10(abs(op))-1)) # Atom nbr\n",
    "                if parse(Int, string(op)[1:2]) == 22\n",
    "                    u0[i] *= cos(theta_array[j]/2)^2\n",
    "                elseif parse(Int, string(op)[1:2]) == 21\n",
    "                    u0[i] *= cos(theta_array[j]/2)*exp(1im*phi_array[j])*sin(theta_array[j]/2)\n",
    "                elseif parse(Int, string(op)[1:2]) == 12\n",
    "                    u0[i] *= cos(theta_array[j]/2)*exp(-1im*phi_array[j])*sin(theta_array[j]/2)\n",
    "                else\n",
    "                    println(op)\n",
    "                end\n",
    "            end\n",
    "        end\n",
    "    end\n",
    "    return u0\n",
    "end\n",
    "\n",
    "\"\"\" Function loading the block subfunction when a lot of equations are involved \"\"\"\n",
    "function load_f(fname::String, libpath::String)\n",
    "\tlib = Libdl.dlopen(libpath)\n",
    "\tfptr = Libdl.dlsym(lib, fname)\n",
    "\treturn (du, u) -> ccall(fptr, Cvoid, (Ptr{ComplexF64}, Ptr{ComplexF64}), du, u)\n",
    "end\n",
    "\n",
    "\"\"\" Function to pass to the solver for QC \"\"\"\n",
    "function fsolve(du, u, p, t)\n",
    "    for i = 1:length(fnames)\n",
    "        functions[i](du, u)\n",
    "    end\n",
    "end"
   ]
  },
  {
   "cell_type": "markdown",
   "id": "1f5e9046",
   "metadata": {},
   "source": [
    "### Define the system"
   ]
  },
  {
   "cell_type": "code",
   "execution_count": 3,
   "id": "2fb922af",
   "metadata": {},
   "outputs": [],
   "source": [
    "# Define geometry of system\n",
    "Nx,Ny,Nz = [5,5,3]\n",
    "N = Nx*Ny*Nz\n",
    "d_xy, d_z = 266., 532. # Optical lattice spacing in nm\n",
    "e = [0,0,1]   # Quantization axis\n",
    "\n",
    "# Initial values\n",
    "theta_init = 0\n",
    "phi_init = 0 # 1 if laser induced correlations between the atoms, 0 else\n",
    "\n",
    "λ = 1299.\n",
    "θl = 30*pi/180 # Angle of the laser\n",
    "\n",
    "a,b,c = [d_xy,d_xy,d_z]/λ\n",
    "geo = geometry.box(a,b,c;Nx=Nx,Ny=Ny,Nz=Nz)\n",
    "system = SpinCollection(geo, e, gammas=1.)\n",
    "\n",
    "Tstep, Tend = 1e-3, 1 # Normalised by Γ0\n",
    "T = [0:Tstep:Tend;];"
   ]
  },
  {
   "cell_type": "code",
   "execution_count": 4,
   "id": "b69af7ac",
   "metadata": {},
   "outputs": [],
   "source": [
    "theta_array = ones(N)*theta_init\n",
    "phi_array = prepare_phi_IS(θl, λ, theta_array)*phi_init;"
   ]
  },
  {
   "cell_type": "markdown",
   "id": "d7be78f8",
   "metadata": {},
   "source": [
    "### QC C functions"
   ]
  },
  {
   "cell_type": "code",
   "execution_count": 5,
   "id": "2d048eb0",
   "metadata": {},
   "outputs": [],
   "source": [
    "@load \"op_list.jdl2\" op_list\n",
    "u0 = u0_CFunction(phi_array, theta_array, op_list);\n",
    "Nvar = length(u0);"
   ]
  },
  {
   "cell_type": "code",
   "execution_count": 6,
   "id": "738fa177",
   "metadata": {},
   "outputs": [],
   "source": [
    "Nsubfct = 15 # Number of blocks created for the compilation\n",
    "fnames = [\"call_diffeq_group_$(lpad(string(i), 3, '0'))\" for i = 1:Nsubfct]\n",
    "libpaths = [\"libs/liballfuncs$i.dll\" for i = 1:Nsubfct];"
   ]
  },
  {
   "cell_type": "code",
   "execution_count": 7,
   "id": "586ac0aa",
   "metadata": {},
   "outputs": [
    {
     "name": "stderr",
     "output_type": "stream",
     "text": [
      "\u001b[32mProgress: 100%|█████████████████████████████████████████| Time: 0:00:02\u001b[39m\u001b[K\n"
     ]
    }
   ],
   "source": [
    "# Prepare the wrapper\n",
    "const N_FUNCS = length(fnames)  # Total function nbr\n",
    "const functions = Vector{Function}(undef, N_FUNCS)\n",
    "@showprogress for i in 1:N_FUNCS\n",
    "    functions[i] = load_f(fnames[i], libpaths[i])\n",
    "end"
   ]
  },
  {
   "cell_type": "code",
   "execution_count": 8,
   "id": "518a7383",
   "metadata": {},
   "outputs": [
    {
     "name": "stdout",
     "output_type": "stream",
     "text": [
      "511.281183 seconds (6.53 M allocations: 569.550 MiB, 0.14% gc time, 0.39% compilation time)\n"
     ]
    },
    {
     "data": {
      "text/plain": [
       "1001-element Vector{Vector{ComplexF64}}:\n",
       " [1.0 + 0.0im, 1.0 + 0.0im, 1.0 + 0.0im, 1.0 + 0.0im, 1.0 + 0.0im, 1.0 + 0.0im, 1.0 + 0.0im, 1.0 + 0.0im, 1.0 + 0.0im, 1.0 + 0.0im  …  0.0 + 0.0im, 0.0 + 0.0im, 0.0 + 0.0im, 0.0 + 0.0im, 0.0 + 0.0im, 0.0 + 0.0im, 0.0 + 0.0im, 0.0 + 0.0im, 0.0 + 0.0im, 0.0 + 0.0im]\n",
       " [0.9989989249638201 - 1.093328405684471e-22im, 0.9989985265722244 + 5.816157855599432e-22im, 0.998998617691202 - 3.468217503974859e-22im, 0.9989985265722244 + 9.9984019980458e-22im, 0.9989989249638201 + 1.3799657975005813e-21im, 0.9989985265722244 + 2.7232406114728207e-22im, 0.9989980342492436 - 2.3832574103064726e-21im, 0.9989981850923252 + 4.373373678195312e-22im, 0.9989980342492436 + 2.135305330632324e-21im, 0.9989985265722244 + 1.8852722059482082e-21im  …  0.0 + 0.0im, 0.0 + 0.0im, 0.0 + 0.0im, 0.0 + 0.0im, 0.0 + 0.0im, 0.0 + 0.0im, 0.0 + 0.0im, 0.0 + 0.0im, 0.0 + 0.0im, 0.0 + 0.0im]\n",
       " [0.9979956767553047 - 4.942466075345891e-22im, 0.997994102131135 + 1.56094082599831e-21im, 0.9979944583221098 - 1.0008269936480423e-21im, 0.997994102131135 + 2.6128799560467123e-21im, 0.9979956767553047 + 3.481532985044407e-21im, 0.997994102131135 + 6.832558209811805e-22im, 0.9979921678499979 - 6.363015761606249e-21im, 0.9979927578122765 + 9.959609613061928e-22im, 0.9979921678499979 + 5.316382794415164e-21im, 0.997994102131135 + 5.183161868099209e-21im  …  0.0 + 0.0im, 0.0 + 0.0im, 0.0 + 0.0im, 0.0 + 0.0im, 0.0 + 0.0im, 0.0 + 0.0im, 0.0 + 0.0im, 0.0 + 0.0im, 0.0 + 0.0im, 0.0 + 0.0im]\n",
       " [0.9969902239741408 - 1.210464976784694e-21im, 0.9969867219094842 + 2.0363956516011433e-21im, 0.9969875045918787 - 1.5161525690889034e-21im, 0.9969867219094842 + 3.301494967597793e-21im, 0.9969902239741408 + 4.060699684541734e-21im, 0.9969867219094842 + 7.806967162440454e-22im, 0.9969824488994387 - 8.326885327631517e-21im, 0.9969837455334218 + 8.119846832880164e-22im, 0.9969824488994387 + 5.976038374730369e-21im, 0.9969867219094842 + 7.195747801993565e-21im  …  0.0 + 0.0im, 0.0 + 0.0im, 0.0 + 0.0im, 0.0 + 0.0im, 0.0 + 0.0im, 0.0 + 0.0im, 0.0 + 0.0im, 0.0 + 0.0im, 0.0 + 0.0im, 0.0 + 0.0im]\n",
       " [0.9959825395528851 - 2.27417936819845e-21im, 0.9959763830992205 + 1.4353394655188012e-21im, 0.995977741017268 - 1.625371117724083e-21im, 0.9959763830992205 + 2.2508568848342956e-21im, 0.9959825395528851 + 1.958121923698995e-21im, 0.9959763830992205 + 3.2183094655058807e-22im, 0.9959689279182632 - 6.185984506330014e-21im, 0.9959711772414682 - 6.235486730257199e-22im, 0.9959689279182632 + 2.2404964223638604e-21im, 0.9959763830992205 + 6.343734488613174e-21im  …  0.0 + 0.0im, 0.0 + 0.0im, 0.0 + 0.0im, 0.0 + 0.0im, 0.0 + 0.0im, 0.0 + 0.0im, 0.0 + 0.0im, 0.0 + 0.0im, 0.0 + 0.0im, 0.0 + 0.0im]\n",
       " [0.9949726007569618 - 3.662048945648972e-21im, 0.9949630848514887 - 4.859298562340435e-22im, 0.9949651539326405 - 1.2394910822243762e-21im, 0.9949630848514887 - 6.310666903622294e-22im, 0.9949726007569618 - 2.900886363981208e-21im, 0.9949630848514887 - 7.2687452561211745e-22im, 0.9949516578506895 + 6.250601801349959e-22im, 0.994955083534262 - 3.464667424044503e-21im, 0.9949516578506895 - 6.0706003444943886e-21im, 0.9949630848514887 + 2.166452074381254e-21im  …  0.0 + 0.0im, 0.0 + 0.0im, 0.0 + 0.0im, 0.0 + 0.0im, 0.0 + 0.0im, 0.0 + 0.0im, 0.0 + 0.0im, 0.0 + 0.0im, 0.0 + 0.0im, 0.0 + 0.0im]\n",
       " [0.9939603891846646 - 5.311200617002795e-21im, 0.993946828276629 - 3.6421757647784084e-21im, 0.9939497314899625 - 4.479567069273576e-22im, 0.993946828276629 - 4.713512204605164e-21im, 0.9939603891846646 - 9.506353339200102e-21im, 0.993946828276629 - 2.1896699748846403e-21im, 0.993930694064457 + 1.1148114085384713e-20im, 0.993935496621788 - 7.510470995796585e-21im, 0.993930694064457 - 1.744419084025035e-20im, 0.993946828276629 - 4.678143628837642e-21im  …  0.0 + 0.0im, 0.0 + 0.0im, 0.0 + 0.0im, 0.0 + 0.0im, 0.0 + 0.0im, 0.0 + 0.0im, 0.0 + 0.0im, 0.0 + 0.0im, 0.0 + 0.0im, 0.0 + 0.0im]\n",
       " [0.9929458907671552 - 7.119229034119875e-21im, 0.9929276164441777 - 7.619223038370982e-21im, 0.9929314636588039 + 4.813519621626149e-22im, 0.9929276164441777 - 8.642920153002797e-21im, 0.9929458907671552 - 1.576364925686272e-20im, 0.9929276164441777 - 3.681522913035181e-21im, 0.9929060943508258 + 2.2901534438824778e-20im, 0.9929124503261708 - 1.2205129923928955e-20im, 0.9929060943508258 - 2.8673795611905904e-20im, 0.9929276164441777 - 1.2413471143737619e-20im  …  0.0 + 0.0im, 0.0 + 0.0im, 0.0 + 0.0im, 0.0 + 0.0im, 0.0 + 0.0im, 0.0 + 0.0im, 0.0 + 0.0im, 0.0 + 0.0im, 0.0 + 0.0im, 0.0 + 0.0im]\n",
       " [0.9919290957684644 - 8.944196592853596e-21im, 0.9919054543828675 - 1.1673957782404154e-20im, 0.9919103422263386 + 1.1021190773744058e-21im, 0.9919054543828675 - 1.0342935079158355e-20im, 0.9919290957684644 - 1.849348646607794e-20im, 0.9919054543828675 - 4.608118088959583e-21im, 0.9918779189245776 + 3.1880170345645316e-20im, 0.9918859800816736 - 1.6637885853707385e-20im, 0.9918779189245776 - 3.4859516839058885e-20im, 0.9919054543828675 - 1.8144323327571473e-20im  …  0.0 + 0.0im, 0.0 + 0.0im, 0.0 + 0.0im, 0.0 + 0.0im, 0.0 + 0.0im, 0.0 + 0.0im, 0.0 + 0.0im, 0.0 + 0.0im, 0.0 + 0.0im, 0.0 + 0.0im]\n",
       " [0.9909099985092898 - 9.980159123595587e-21im, 0.9908803490207961 - 1.5542309960801364e-20im, 0.9908863607464389 + 2.5090223252705527e-21im, 0.9908803490207961 - 1.1960417633332095e-20im, 0.9909099985092898 - 1.7519409488635365e-20im, 0.9908803490207961 - 3.4363937548896666e-21im, 0.9908462302792571 + 3.423429336099667e-20im, 0.990856122869132 - 2.1207105533537875e-20im, 0.9908462302792571 - 3.606600890667364e-20im, 0.9908803490207961 - 2.2345988392945602e-20im  …  0.0 + 0.0im, 0.0 + 0.0im, 0.0 + 0.0im, 0.0 + 0.0im, 0.0 + 0.0im, 0.0 + 0.0im, 0.0 + 0.0im, 0.0 + 0.0im, 0.0 + 0.0im, 0.0 + 0.0im]\n",
       " ⋮\n",
       " [0.3564290574933939 - 5.668095848221995e-19im, 0.2656669360970053 + 5.790099472306114e-19im, 0.2384954009271545 - 9.360877756153332e-20im, 0.26566693609700603 - 3.651486715931206e-19im, 0.3564290574933939 - 5.713622350327865e-19im, 0.26566693609700476 + 7.669797952662758e-19im, 0.22941757465980567 - 1.59905031729661e-18im, 0.19473553490437753 - 7.974978580921303e-20im, 0.22941757465980486 - 1.5925099650563717e-18im, 0.2656669360970052 - 1.6225417122131117e-19im  …  0.0 + 0.0im, 0.0 + 0.0im, 0.0 + 0.0im, 0.0 + 0.0im, 0.0 + 0.0im, 0.0 + 0.0im, 0.0 + 0.0im, 0.0 + 0.0im, 0.0 + 0.0im, 0.0 + 0.0im]\n",
       " [0.3560361438895128 - 5.643880063201757e-19im, 0.26527759269992984 + 5.916111749879165e-19im, 0.2380882766725677 - 9.509774343709344e-20im, 0.26527759269993056 - 3.507779873903754e-19im, 0.3560361438895128 - 5.712745887458638e-19im, 0.2652775926999293 + 7.528794722332559e-19im, 0.22903265712138743 - 1.5916739352316943e-18im, 0.19436836644521402 - 8.491019858445487e-20im, 0.22903265712138662 - 1.6071030780388749e-18im, 0.26527759269992973 - 1.6016566607309425e-19im  …  0.0 + 0.0im, 0.0 + 0.0im, 0.0 + 0.0im, 0.0 + 0.0im, 0.0 + 0.0im, 0.0 + 0.0im, 0.0 + 0.0im, 0.0 + 0.0im, 0.0 + 0.0im, 0.0 + 0.0im]\n",
       " [0.35564336186757406 - 5.612353581312143e-19im, 0.264888725659773 + 5.970576130304242e-19im, 0.23768166822863634 - 8.670771750478695e-20im, 0.2648887256597737 - 3.367330095287306e-19im, 0.35564336186757406 - 5.724685906813108e-19im, 0.26488872565977245 + 7.458458400155794e-19im, 0.22864911756564377 - 1.5916493965292918e-18im, 0.1940021699182764 - 7.353972071783233e-20im, 0.22864911756564296 - 1.6201260693277745e-18im, 0.2648887256597729 - 1.6761183725428774e-19im  …  0.0 + 0.0im, 0.0 + 0.0im, 0.0 + 0.0im, 0.0 + 0.0im, 0.0 + 0.0im, 0.0 + 0.0im, 0.0 + 0.0im, 0.0 + 0.0im, 0.0 + 0.0im, 0.0 + 0.0im]\n",
       " [0.3552507358749358 - 5.567070241161299e-19im, 0.26450035381320786 + 5.910177113834468e-19im, 0.2372755923500412 - 6.694844640146673e-20im, 0.2645003538132086 - 3.273365670534952e-19im, 0.3552507358749358 - 5.742591612978392e-19im, 0.2645003538132073 + 7.542863056387305e-19im, 0.22826697173458452 - 1.5912789842748267e-18im, 0.1936369579364124 - 4.2484331408855666e-20im, 0.2282669717345837 - 1.6261451067533013e-18im, 0.26450035381320774 - 1.8426097409506038e-19im  …  0.0 + 0.0im, 0.0 + 0.0im, 0.0 + 0.0im, 0.0 + 0.0im, 0.0 + 0.0im, 0.0 + 0.0im, 0.0 + 0.0im, 0.0 + 0.0im, 0.0 + 0.0im, 0.0 + 0.0im]\n",
       " [0.35485828977596895 - 5.507556196431042e-19im, 0.26411249586860436 + 5.72758787450617e-19im, 0.23687006566614704 - 3.740647338297353e-20im, 0.2641124958686051 - 3.2464786180862944e-19im, 0.35485828977596895 - 5.761480656706563e-19im, 0.2641124958686038 + 7.807934834669334e-19im, 0.22788623488734447 - 1.5861282681626765e-18im, 0.19327274293879373 + 6.6902534876389094e-21im, 0.22788623488734366 - 1.622760614392378e-18im, 0.26411249586860425 - 2.0808149322737845e-19im  …  0.0 + 0.0im, 0.0 + 0.0im, 0.0 + 0.0im, 0.0 + 0.0im, 0.0 + 0.0im, 0.0 + 0.0im, 0.0 + 0.0im, 0.0 + 0.0im, 0.0 + 0.0im, 0.0 + 0.0im]\n",
       " [0.3544660468520569 - 5.439309915876861e-19im, 0.2637251704060293 + 5.451470260138868e-19im, 0.23646510468100262 - 2.7451383241359172e-21im, 0.26372517040603 - 3.284624684367452e-19im, 0.3544660468520569 - 5.778239134914645e-19im, 0.2637251704060287 + 8.221451952031529e-19im, 0.22750692180018345 - 1.5750261044961705e-18im, 0.19290953719091622 + 6.769858146148954e-20im, 0.22750692180018264 - 1.6106072725686188e-18im, 0.26372517040602916 - 2.3534193858500595e-19im  …  0.0 + 0.0im, 0.0 + 0.0im, 0.0 + 0.0im, 0.0 + 0.0im, 0.0 + 0.0im, 0.0 + 0.0im, 0.0 + 0.0im, 0.0 + 0.0im, 0.0 + 0.0im, 0.0 + 0.0im]\n",
       " [0.3540740298015957 - 5.373802183327921e-19im, 0.26333839587724633 + 5.146474792335288e-19im, 0.23606072577334064 + 2.9295422281229795e-20im, 0.26333839587724706 - 3.3631233437910584e-19im, 0.3540740298015957 - 5.791621590684613e-19im, 0.2633383958772458 + 8.69304469889094e-19im, 0.22712904676648632 - 1.5600646361875905e-18im, 0.19254735278459967 + 1.2953546334720852e-19im, 0.22712904676648552 - 1.5933540178523297e-18im, 0.2633383958772462 - 2.6061098140350444e-19im  …  0.0 + 0.0im, 0.0 + 0.0im, 0.0 + 0.0im, 0.0 + 0.0im, 0.0 + 0.0im, 0.0 + 0.0im, 0.0 + 0.0im, 0.0 + 0.0im, 0.0 + 0.0im, 0.0 + 0.0im]\n",
       " [0.353682260739994 - 5.328476097687056e-19im, 0.2629521906057161 + 4.913240666481355e-19im, 0.23565694519657773 + 4.7898275320319316e-20im, 0.26295219060571684 - 3.434657798756262e-19im, 0.353682260739994 - 5.8022510132634e-19im, 0.26295219060571556 + 9.074195439052011e-19im, 0.2267526235967629 - 1.5465992927581715e-18im, 0.19218620163798797 + 1.7647597332398255e-19im, 0.2267526235967621 - 1.5777040430605084e-18im, 0.262952190605716 - 2.7675742022023324e-19im  …  0.0 + 0.0im, 0.0 + 0.0im, 0.0 + 0.0im, 0.0 + 0.0im, 0.0 + 0.0im, 0.0 + 0.0im, 0.0 + 0.0im, 0.0 + 0.0im, 0.0 + 0.0im, 0.0 + 0.0im]\n",
       " [0.35329076119967284 - 5.3267470729307805e-19im, 0.2625665727865961 + 4.888395751746193e-19im, 0.23525377907881453 + 3.916969106134075e-20im, 0.26256657278659684 - 3.429274979648727e-19im, 0.35329076119967284 - 5.812618838062887e-19im, 0.26256657278659556 + 9.1582386097066e-19im, 0.22637766561864808 - 1.5432487903380997e-18im, 0.191826095495549 + 1.8807544891567233e-19im, 0.22637766561864728 - 1.5733947972568442e-18im, 0.262566572786596 - 2.7495018087434915e-19im  …  0.0 + 0.0im, 0.0 + 0.0im, 0.0 + 0.0im, 0.0 + 0.0im, 0.0 + 0.0im, 0.0 + 0.0im, 0.0 + 0.0im, 0.0 + 0.0im, 0.0 + 0.0im, 0.0 + 0.0im]"
      ]
     },
     "metadata": {},
     "output_type": "display_data"
    }
   ],
   "source": [
    "prob = OrdinaryDiffEq.ODEProblem(fsolve, u0, (T[1], T[end]))\n",
    "@time begin\n",
    "sol = OrdinaryDiffEq.solve(prob, OrdinaryDiffEq.DP5(), saveat=T;\n",
    "            reltol=1.0e-6,\n",
    "            abstol=1.0e-8).u;\n",
    "end"
   ]
  },
  {
   "cell_type": "code",
   "execution_count": 9,
   "id": "4e60833b",
   "metadata": {},
   "outputs": [],
   "source": [
    "@save \"Sol_QC_Nx_$(Nx)_Ny_$(Ny)_Nz_$(Nz)_theta_$(round(theta_init, digits=1))_phi_$(phi_init)_thetal_$(round(θl, digits=2))\" sol"
   ]
  },
  {
   "cell_type": "code",
   "execution_count": 10,
   "id": "b261fefc",
   "metadata": {},
   "outputs": [],
   "source": [
    "mean_σx_QC = [2*mean(real(sol[i][N+1:2*N])) for i=1:length(T)]\n",
    "mean_σy_QC = [2*mean(imag(sol[i][N+1:2*N])) for i=1:length(T)]\n",
    "mean_σz_QC = [2*mean(real(sol[i][1:N]))-1 for i=1:length(T)]\n",
    "mean_σz67_QC = -1 .*(mean_σz_QC.+1) ./2 .- 6;"
   ]
  },
  {
   "cell_type": "markdown",
   "id": "c6b44b3f",
   "metadata": {},
   "source": [
    "# Plots"
   ]
  },
  {
   "cell_type": "code",
   "execution_count": 11,
   "id": "a390ace7",
   "metadata": {},
   "outputs": [
    {
     "data": {
      "image/png": "[encoded data removed]",
      "text/plain": [
       "Figure(PyObject <Figure size 640x480 with 1 Axes>)"
      ]
     },
     "metadata": {},
     "output_type": "display_data"
    }
   ],
   "source": [
    "close(\"all\")\n",
    "\n",
    "plot(T, mean_σx_QC, label=L\"$<\\sigma_x>$ QC\")\n",
    "plot(T, mean_σy_QC, label=L\"$<\\sigma_y>$ QC\")\n",
    "plot(T, mean_σz67_QC, label=L\"$<\\sigma_z>$ QC\")\n",
    "\n",
    "xlabel(L\"t/\\tau\")\n",
    "ylabel(\"Mean expectation values\")\n",
    "\n",
    "legend()\n",
    "pygui(false); gcf()\n",
    "#pygui(true); show()"
   ]
  },
  {
   "cell_type": "code",
   "execution_count": 12,
   "id": "020b89de",
   "metadata": {},
   "outputs": [],
   "source": []
  }
 ],
 "metadata": {
  "kernelspec": {
   "display_name": "Julia 1.11.5",
   "language": "julia",
   "name": "julia-1.11"
  },
  "language_info": {
   "file_extension": ".jl",
   "mimetype": "application/julia",
   "name": "julia",
   "version": "1.11.5"
  }
 },
 "nbformat": 4,
 "nbformat_minor": 5
}
