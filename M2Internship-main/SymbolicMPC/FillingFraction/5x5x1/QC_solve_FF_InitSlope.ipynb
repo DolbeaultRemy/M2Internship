{
 "cells": [
  {
   "cell_type": "code",
   "execution_count": 1,
   "id": "07f91b4f",
   "metadata": {},
   "outputs": [],
   "source": [
    "using CollectiveSpins\n",
    "using PyPlot\n",
    "using Statistics\n",
    "using JLD2\n",
    "using ProgressMeter\n",
    "using QuantumOptics\n",
    "using OrdinaryDiffEq\n",
    "using Libdl"
   ]
  },
  {
   "cell_type": "code",
   "execution_count": 2,
   "id": "7bff826d",
   "metadata": {},
   "outputs": [
    {
     "data": {
      "text/plain": [
       "load_f"
      ]
     },
     "metadata": {},
     "output_type": "display_data"
    }
   ],
   "source": [
    "\"\"\" Prepare the initial state of the system \n",
    "with a phase correlation imposed between the atoms\n",
    "because the laser arrive on the lattice with an angle θl \"\"\"\n",
    "function prepare_phi_IS(θl, λl, theta_array)\n",
    "    phi_array = zeros(N)\n",
    "    for i = 1:N\n",
    "        phi_array[i] = 2pi * sqrt(sum((system.spins[i].position .* [cos(θl), sin(θl), 0]) .^ 2))\n",
    "    end\n",
    "    return phi_array\n",
    "end\n",
    "\n",
    "\"\"\" Prepare the initial vector u0 \"\"\"\n",
    "function u0_CFunction(phi_array, theta_array, op_list)\n",
    "    u0 = ones(ComplexF64, length(op_list))\n",
    "    for i in 1:length(op_list)\n",
    "        if length(op_list[i]) == 1\n",
    "            j = Int(op_list[i][1] % 10^floor(log10(abs(op_list[i][1]))-1)) # Atom nbr\n",
    "            if parse(Int, string(op_list[i][1])[1:2]) == 22\n",
    "                u0[i] = cos(theta_array[j]/2)^2\n",
    "            elseif parse(Int, string(op_list[i][1])[1:2]) == 21\n",
    "                u0[i] = cos(theta_array[j]/2)*exp(1im*phi_array[j])*sin(theta_array[j]/2)\n",
    "            else\n",
    "                println(op_list[i][1])\n",
    "            end\n",
    "        end\n",
    "\n",
    "        if length(op_list[i]) == 2\n",
    "            for op in op_list[i]\n",
    "                j = Int(op % 10^floor(log10(abs(op))-1)) # Atom nbr\n",
    "                if parse(Int, string(op)[1:2]) == 22\n",
    "                    u0[i] *= cos(theta_array[j]/2)^2\n",
    "                elseif parse(Int, string(op)[1:2]) == 21\n",
    "                    u0[i] *= cos(theta_array[j]/2)*exp(1im*phi_array[j])*sin(theta_array[j]/2)\n",
    "                elseif parse(Int, string(op)[1:2]) == 12\n",
    "                    u0[i] *= cos(theta_array[j]/2)*exp(-1im*phi_array[j])*sin(theta_array[j]/2)\n",
    "                else\n",
    "                    println(op)\n",
    "                end\n",
    "            end\n",
    "        end\n",
    "    end\n",
    "    return u0\n",
    "end\n",
    "\n",
    "\"\"\" Function loading the block subfunction when a lot of equations are involved \"\"\"\n",
    "function load_f(fname::String, libpath::String)\n",
    "\tlib = Libdl.dlopen(libpath)\n",
    "\tfptr = Libdl.dlsym(lib, fname)\n",
    "\treturn (du, u) -> ccall(fptr, Cvoid, (Ptr{ComplexF64}, Ptr{ComplexF64}), du, u)\n",
    "end"
   ]
  },
  {
   "cell_type": "markdown",
   "id": "1f5e9046",
   "metadata": {},
   "source": [
    "### Define the system"
   ]
  },
  {
   "cell_type": "code",
   "execution_count": 3,
   "id": "2fb922af",
   "metadata": {},
   "outputs": [],
   "source": [
    "# Define geometry of system\n",
    "Nx,Ny,Nz = [5,5,1]\n",
    "N = Nx*Ny*Nz\n",
    "d_xy, d_z = 266., 532. # Optical lattice spacing in nm\n",
    "e = [0,0,1]   # Quantization axis\n",
    "\n",
    "# Initial values\n",
    "theta_init = 0\n",
    "phi_init = 0 # 1 if laser induced correlations between the atoms, 0 else\n",
    "\n",
    "λ = 1299.\n",
    "θl = 30*pi/180 # Angle of the laser\n",
    "\n",
    "a,b,c = [d_xy,d_xy,d_z]/λ\n",
    "geo = geometry.box(a,b,c;Nx=Nx,Ny=Ny,Nz=Nz)\n",
    "system = SpinCollection(geo, e, gammas=1.)\n",
    "\n",
    "repetitions = 10\n",
    "\n",
    "Tstep, Tend = 1e-3, 1e-3 # Normalised by Γ0\n",
    "T = [0:Tstep:Tend;];"
   ]
  },
  {
   "cell_type": "code",
   "execution_count": 4,
   "id": "b80490db",
   "metadata": {},
   "outputs": [],
   "source": [
    "# Load the operators\n",
    "var_filling_fraction = 2/N; r = 1\n",
    "@load \"Operators/op_list_FF_$(round(var_filling_fraction, digits=2))_rep_$r.jdl2\" op_list\n",
    "theta_array = ones(N)*theta_init\n",
    "phi_array = prepare_phi_IS(θl, λ, theta_array)*phi_init;"
   ]
  },
  {
   "cell_type": "code",
   "execution_count": 5,
   "id": "bef46663",
   "metadata": {},
   "outputs": [],
   "source": [
    "# Prepare the wrapper\n",
    "const N_FUNCS = length(readdir(\"libs\"))  # Total function nbr\n",
    "const functions = Vector{Function}(undef, N_FUNCS)\n",
    "func_count = 1\n",
    "for i = 2:2:N\n",
    "    var_filling_fraction = i/N\n",
    "    for r in 1:repetitions\n",
    "        libpath =\"libs/liballfuncs_FF_$(round(var_filling_fraction, digits=2))_rep_$r.dll\"\n",
    "        functions[func_count] = load_f(\"diffeqf\", libpath)\n",
    "        func_count += 1\n",
    "    end\n",
    "end"
   ]
  },
  {
   "cell_type": "markdown",
   "id": "be1713dc",
   "metadata": {},
   "source": [
    "# Initial slope"
   ]
  },
  {
   "cell_type": "code",
   "execution_count": 6,
   "id": "8fd0060d",
   "metadata": {},
   "outputs": [
    {
     "name": "stderr",
     "output_type": "stream",
     "text": [
      "\u001b[32mProgress: 100%|█████████████████████████████████████████| Time: 0:00:16\u001b[39m\u001b[K\n"
     ]
    }
   ],
   "source": [
    "var_FF_diff_mean_σz = []\n",
    "std_var_FF_diff_mean_σz = []\n",
    "\n",
    "func_count = 1\n",
    "\n",
    "@showprogress for i = 2:2:N\n",
    "    var_filling_fraction = i/N\n",
    "    diff_σz_rep = []\n",
    "\n",
    "    for r in 1:repetitions\n",
    "        # Load the functions\n",
    "        fsolve(du, u, p, t) = functions[func_count](du, u)\n",
    "\n",
    "        # Find the mean values that should be set to 0 (no atoms)\n",
    "        u0 = u0_CFunction(phi_array, theta_array, op_list);\n",
    "        A, B = ones(ComplexF64, length(u0)), ones(ComplexF64, length(u0))\n",
    "        fsolve(B, A, 0, 0)\n",
    "        u0[findall(x -> x == 0, B)] .= 0\n",
    "        \n",
    "        # Solve the problem\n",
    "        prob = OrdinaryDiffEq.ODEProblem(fsolve, u0, (T[1], T[end]))\n",
    "        sol = OrdinaryDiffEq.solve(prob, OrdinaryDiffEq.DP5(), saveat=T;\n",
    "                reltol=1.0e-6,\n",
    "                abstol=1.0e-8).u;\n",
    "        \n",
    "        mean_σz_QC =[2*sum(real(sol[t][1:N]))./i-1 for t=1:length(T)]\n",
    "        mean_σz67_QC = -1 .*(mean_σz_QC.+1) ./2 .- 6;\n",
    "        push!(diff_σz_rep, diff(mean_σz67_QC)./Tstep)\n",
    "        func_count += 1\n",
    "\n",
    "        # Free variable name\n",
    "        fsolve = nothing\n",
    "    end\n",
    "    push!(var_FF_diff_mean_σz, mean(diff_σz_rep)[1])\n",
    "    push!(std_var_FF_diff_mean_σz, std(diff_σz_rep)[1])\n",
    "end"
   ]
  },
  {
   "cell_type": "code",
   "execution_count": 7,
   "id": "4e60833b",
   "metadata": {},
   "outputs": [],
   "source": [
    "@save \"VarFF_InitSlope_QC_Nx_$(Nx)_Ny_$(Ny)_Nz_$(Nz)_theta_$(round(theta_init, digits=1))_phi_$(phi_init)_thetal_$(round(θl, digits=2)).jld2\" var_FF_diff_mean_σz std_var_FF_diff_mean_σz"
   ]
  },
  {
   "cell_type": "code",
   "execution_count": 8,
   "id": "12b1e0ec",
   "metadata": {},
   "outputs": [],
   "source": [
    "@load \"VarFF_InitSlope_QC_Nx_$(Nx)_Ny_$(Ny)_Nz_$(Nz)_theta_$(round(theta_init, digits=1))_phi_$(phi_init)_thetal_$(round(θl, digits=2)).jld2\" var_FF_diff_mean_σz std_var_FF_diff_mean_σz;"
   ]
  },
  {
   "cell_type": "markdown",
   "id": "72ac9e58",
   "metadata": {},
   "source": [
    "### Independent case"
   ]
  },
  {
   "cell_type": "code",
   "execution_count": 9,
   "id": "133f9818",
   "metadata": {},
   "outputs": [],
   "source": [
    "diff_mean_σz_ind = []\n",
    "\n",
    "libpath_ind =\"liballfuncs_idp.dll\"\n",
    "f_ind = load_f(\"diffeqf\", libpath_ind)\n",
    "fsolve(du, u, p, t) = f_ind(du, u)\n",
    "\n",
    "# Find the mean values that should be set to 0 (no atoms)\n",
    "u0 = u0_CFunction(phi_array, theta_array, op_list)\n",
    "A, B = ones(ComplexF64, length(u0)), ones(ComplexF64, length(u0))\n",
    "fsolve(B, A, 0, 0)\n",
    "u0[findall(x -> x == 0, B)] .= 0\n",
    "\n",
    "# Solve the problem\n",
    "prob = OrdinaryDiffEq.ODEProblem(fsolve, u0, (T[1], T[end]))\n",
    "sol = OrdinaryDiffEq.solve(prob, OrdinaryDiffEq.DP5(), saveat=T;\n",
    "        reltol=1.0e-6,\n",
    "        abstol=1.0e-8).u;\n",
    "\n",
    "mean_σz_QC = [2*sum(real(sol[t][1:N]))-1 for t=1:length(T)]\n",
    "mean_σz67_QC = -1 .*(mean_σz_QC.+1) ./2 .- 6;\n",
    "push!(diff_mean_σz_ind, (diff(mean_σz67_QC)./Tstep)[1]);"
   ]
  },
  {
   "cell_type": "markdown",
   "id": "c6b44b3f",
   "metadata": {},
   "source": [
    "# Plots"
   ]
  },
  {
   "cell_type": "code",
   "execution_count": 10,
   "id": "a390ace7",
   "metadata": {},
   "outputs": [
    {
     "data": {
      "image/png": "[encoded data removed]",
      "text/plain": [
       "Figure(PyObject <Figure size 640x480 with 1 Axes>)"
      ]
     },
     "metadata": {},
     "output_type": "display_data"
    }
   ],
   "source": [
    "close(\"all\")\n",
    "\n",
    "errorbar([i for i=2:2:N]./N, var_FF_diff_mean_σz./diff_mean_σz_ind, yerr=std_var_FF_diff_mean_σz)\n",
    "\n",
    "xlabel(\"FF\")\n",
    "ylabel(\"Initial slope\")\n",
    "\n",
    "pygui(false); gcf()\n",
    "#pygui(true); show()"
   ]
  },
  {
   "cell_type": "code",
   "execution_count": 11,
   "id": "e83fc306",
   "metadata": {},
   "outputs": [],
   "source": []
  }
 ],
 "metadata": {
  "kernelspec": {
   "display_name": "Julia 1.11.5",
   "language": "julia",
   "name": "julia-1.11"
  },
  "language_info": {
   "file_extension": ".jl",
   "mimetype": "application/julia",
   "name": "julia",
   "version": "1.11.5"
  }
 },
 "nbformat": 4,
 "nbformat_minor": 5
}
