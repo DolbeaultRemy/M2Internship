{
 "cells": [
  {
   "cell_type": "code",
   "execution_count": 1,
   "id": "5667327d",
   "metadata": {},
   "outputs": [],
   "source": [
    "using QuantumCumulants\n",
    "using CollectiveSpins\n",
    "using Symbolics\n",
    "using JLD2\n",
    "using ProgressMeter"
   ]
  },
  {
   "cell_type": "code",
   "execution_count": 2,
   "id": "f1b23dc5-d984-4a62-9a5d-15f1862652a9",
   "metadata": {},
   "outputs": [
    {
     "data": {
      "text/plain": [
       "nbrNN (generic function with 1 method)"
      ]
     },
     "metadata": {},
     "output_type": "display_data"
    }
   ],
   "source": [
    "\"\"\" Test if the atom i and j are NN, returns 1 if yes, 0 else \"\"\"\n",
    "function NNTest(i, j)\n",
    "    Matidx = reshape([1:N;], Nx, Ny, Nz)\n",
    "    idxi = findall(x->x==i, Matidx)[1]\n",
    "    x, y, z = idxi[1], idxi[2], idxi[3]\n",
    "\n",
    "    idxj = findall(x->x==j, Matidx)[1]\n",
    "    xj, yj, zj = idxj[1], idxj[2], idxj[3]\n",
    "\n",
    "    if (abs(x - xj) == 1 && y == yj && z == zj) ||\n",
    "       (abs(y - yj) == 1 && x == xj && z == zj) ||\n",
    "       (abs(z - zj) == 1 && x == xj && y == yj)\n",
    "        return 1\n",
    "    else\n",
    "        return 0\n",
    "    end\n",
    "end\n",
    "\n",
    "function nbrNN(i::Int)\n",
    "    Matidx = reshape([1:N;], Nx, Ny, Nz)\n",
    "    idxi = findall(x->x==i, Matidx)[1]\n",
    "    x, y, z = idxi[1], idxi[2], idxi[3]\n",
    "    nbr = 0\n",
    "    for j = 1:N\n",
    "        idxj = findall(x->x==j, Matidx)[1]\n",
    "        xj, yj, zj = idxj[1], idxj[2], idxj[3]\n",
    "    \n",
    "        if (abs(x - xj) == 1 && y == yj && z == zj) ||\n",
    "           (abs(y - yj) == 1 && x == xj && z == zj) ||\n",
    "           (abs(z - zj) == 1 && x == xj && y == yj)\n",
    "            nbr +=1\n",
    "        end\n",
    "    end\n",
    "    return nbr\n",
    "end"
   ]
  },
  {
   "cell_type": "markdown",
   "id": "ff3685ba",
   "metadata": {},
   "source": [
    "### Define the system"
   ]
  },
  {
   "cell_type": "code",
   "execution_count": 3,
   "id": "3c2497fb",
   "metadata": {},
   "outputs": [
    {
     "name": "stdout",
     "output_type": "stream",
     "text": [
      "N = 8\n"
     ]
    }
   ],
   "source": [
    "# Define geometry of system\n",
    "Nx,Ny,Nz = [1,2,4]\n",
    "N = Nx*Ny*Nz\n",
    "\n",
    "println(\"N = \"*string(N))\n",
    "d_xy, d_z = 266., 532. # Optical lattice spacing in nm\n",
    "λ = 1299.\n",
    "Γ0 = 1. # In Hz\n",
    "e = [0,0,1]   # Quantization axis\n",
    "\n",
    "# Magnetic interaction coeffs\n",
    "Ω_ZZ_coeff = [53, 42, 33]./Γ0\n",
    "\n",
    "a_dim,b_dim,c_dim = [d_xy,d_xy,d_z]/λ\n",
    "geo = geometry.box(a_dim,b_dim,c_dim;Nx=Nx,Ny=Ny,Nz=Nz)\n",
    "system = SpinCollection(geo, e, gammas=1.);"
   ]
  },
  {
   "cell_type": "markdown",
   "id": "12b84e03",
   "metadata": {},
   "source": [
    "# CS"
   ]
  },
  {
   "cell_type": "code",
   "execution_count": 4,
   "id": "5bdb9cae",
   "metadata": {},
   "outputs": [],
   "source": [
    "Ω_CS = interaction.OmegaMatrix(system)\n",
    "Γ_CS = interaction.GammaMatrix(system);"
   ]
  },
  {
   "cell_type": "markdown",
   "id": "e539d33b",
   "metadata": {},
   "source": [
    "# QC"
   ]
  },
  {
   "cell_type": "code",
   "execution_count": 5,
   "id": "47649ab7",
   "metadata": {},
   "outputs": [],
   "source": [
    "@cnumbers Nsymb bn cn\n",
    "\n",
    "h = NLevelSpace(Symbol(:atom),2)\n",
    "\n",
    "Γ(i,j) = IndexedVariable(:Γ,i,j)\n",
    "Ω(i,j) = IndexedVariable(:Ω,i,j;identical=false)\n",
    "a(i,j) = IndexedVariable(:a,i,j;identical=false)\n",
    "b(i,j) = IndexedVariable(:b,i,j;identical=false)\n",
    "c(i,j) = IndexedVariable(:c,i,j;identical=false)\n",
    "nn(i) = IndexedVariable(:n, i) # Nbr of NN of atom i\n",
    "\n",
    "i = Index(h,:i,Nsymb,h)\n",
    "j = Index(h,:j,Nsymb,h)\n",
    "k = Index(h,:k,Nsymb,h)\n",
    "l = Index(h,:l,Nsymb,h)\n",
    "\n",
    "σ(x,y,z) = IndexedOperator(Transition(h,:σ,x,y),z)\n",
    "\n",
    "H_elec = Σ(Ω(i,j)*σ(2,1,i)*σ(1,2,j), j, i)\n",
    "H_mgt1 = Σ(a(i,j)*σ(2,2,i)*σ(2,2,j)\n",
    "        - 2*b(i,j)*σ(2,2,i)*σ(2,2,j)\n",
    "        + c(i,j)*σ(2,2,i)*σ(2,2,j), j, i)\n",
    "        \n",
    "H_mgt2 = 2*Σ(nn(i)*(bn*σ(2,2,i)-cn*σ(2,2,i)), i)\n",
    "\n",
    "H = Symbolics.simplify(H_elec+H_mgt1+H_mgt2);"
   ]
  },
  {
   "cell_type": "code",
   "execution_count": 6,
   "id": "98983a1d-f216-4c3f-a2e8-5b3ef208659a",
   "metadata": {
    "scrolled": true
   },
   "outputs": [],
   "source": [
    "J = [σ(1,2,i)] # σ-\n",
    "rates = [Γ(i,j)]\n",
    "\n",
    "ops = [σ(2, 2, k), σ(2, 1, k)] # n_up/σ+\n",
    "\n",
    "eqs = meanfield(ops,H,J;rates=rates,order=2)\n",
    "complete!(eqs);"
   ]
  },
  {
   "cell_type": "markdown",
   "id": "141cbec4-4e83-4869-84e1-b36af3ce6990",
   "metadata": {},
   "source": [
    "### Evaluate symbolic sums"
   ]
  },
  {
   "cell_type": "code",
   "execution_count": 7,
   "id": "78b267d2-d6da-446a-af8d-4f8d833489dc",
   "metadata": {},
   "outputs": [],
   "source": [
    "eqs_eval = evaluate(eqs; limits=(Nsymb=>N));"
   ]
  },
  {
   "cell_type": "markdown",
   "id": "39af2fa2-d16d-4f24-a8d2-2d1c559ca2b3",
   "metadata": {},
   "source": [
    "### Evaluate parameters"
   ]
  },
  {
   "cell_type": "code",
   "execution_count": 8,
   "id": "cdefba5e-0cfa-4718-956e-9ad625eb5135",
   "metadata": {},
   "outputs": [],
   "source": [
    "Γij_symb = [Γ(i,j) for i = 1:N for j=1:N]\n",
    "Ωij_symb = [Ω(i,j) for i = 1:N for j=1:N if i≠j]\n",
    "\n",
    "Γij_ = [Γ_CS[i, j] for i = 1:N for j=1:N]\n",
    "Ωij_ = [Ω_CS[i, j] for i = 1:N for j=1:N if i≠j]\n",
    "\n",
    "a_symb = [a(i,j) for i = 1:N for j=1:N if i≠j]\n",
    "b_symb = [b(i,j) for i = 1:N for j=1:N if i≠j]\n",
    "c_symb = [c(i,j) for i = 1:N for j=1:N if i≠j]\n",
    "\n",
    "a_ = [Ω_ZZ_coeff[1]*NNTest(i, j) for i = 1:N for j=1:N if i≠j]\n",
    "b_ = [Ω_ZZ_coeff[2]*NNTest(i, j) for i = 1:N for j=1:N if i≠j]\n",
    "c_ = [Ω_ZZ_coeff[3]*NNTest(i, j) for i = 1:N for j=1:N if i≠j]\n",
    "\n",
    "nn_symb = [nn(i) for i = 1:N]\n",
    "nn_ = [nbrNN(i) for i = 1:N]\n",
    "\n",
    "ps = [Γij_symb; Ωij_symb; a_symb; b_symb; c_symb; nn_symb; bn; cn]\n",
    "p0 = [Γij_; Ωij_; a_; b_; c_; nn_; Ω_ZZ_coeff[2]; Ω_ZZ_coeff[3]]\n",
    "\n",
    "p0 = ps .=> p0;"
   ]
  },
  {
   "cell_type": "code",
   "execution_count": 9,
   "id": "0a12c7dd-aa95-47e4-8841-b13276dbffc8",
   "metadata": {},
   "outputs": [],
   "source": [
    "eqs_eval = substitute(eqs_eval, Dict(p0));"
   ]
  },
  {
   "cell_type": "markdown",
   "id": "6a5a3ca1-0f00-4d2a-b4f8-d3e52b7c021e",
   "metadata": {},
   "source": [
    "### Compute variables"
   ]
  },
  {
   "cell_type": "code",
   "execution_count": 10,
   "id": "5bc4f7b3",
   "metadata": {},
   "outputs": [],
   "source": [
    "op_list = []\n",
    "var_array = []\n",
    "for i in 1:length(eqs_eval)\n",
    "    var = eqs_eval[i].lhs\n",
    "    push!(var_array, var)\n",
    "    \n",
    "    v_str = string(var)\n",
    "    em = eachmatch(r\"σ(\\d+)\", v_str)\n",
    "    ind = [m.captures[1] for m in em]\n",
    "    push!(op_list, [parse(Int, i) for i in ind])\n",
    "end\n",
    "@save \"op_list.jdl2\" op_list"
   ]
  },
  {
   "cell_type": "markdown",
   "id": "64d9ae6c-8272-417e-86a7-2d3e564e1450",
   "metadata": {},
   "source": [
    "### Build function"
   ]
  },
  {
   "cell_type": "code",
   "execution_count": 11,
   "id": "1f9c8449",
   "metadata": {},
   "outputs": [
    {
     "name": "stderr",
     "output_type": "stream",
     "text": [
      "\u001b[32mProgress: 100%|█████████████████████████████████████████| Time: 0:00:10\u001b[39m\u001b[K\n"
     ]
    }
   ],
   "source": [
    "if !isdir(\"Cfunctions\")\n",
    "    mkdir(\"Cfunctions\")\n",
    "end\n",
    "\n",
    "\n",
    "@showprogress for i in 1:length(eqs_eval)\n",
    "    # Save the C function\n",
    "    code = Symbolics.build_function([eqs_eval[i].rhs], var_array, target=Symbolics.CTarget())\n",
    "    c_code = replace(code, \n",
    "        \"im\" => \"*I\", \"double* du\" => \"double complex* du\", \"const double* RHS1\" => \"const double complex* RHS1\", \"du[0]\" => \"du[$(i-1)]\", \"diffeqf\" => \"diffeqf_$i\")\n",
    "    open(\"Cfunctions/diffeqf_$i.c\", \"w\") do io\n",
    "        print(io, \"#include <complex.h>\\n\") # Include complex package\n",
    "        print(io, c_code)\n",
    "    end\n",
    "    # Free RAM memomry\n",
    "    code = nothing\n",
    "    c_code = nothing\n",
    "end"
   ]
  },
  {
   "cell_type": "markdown",
   "id": "576d0b6a",
   "metadata": {},
   "source": [
    "### Build dispatcher"
   ]
  },
  {
   "cell_type": "code",
   "execution_count": 12,
   "id": "37467e1a",
   "metadata": {},
   "outputs": [],
   "source": [
    "\"\"\" Create the big function that will call all the subfunctions to avoid doing a lot of ccalls \"\"\"\n",
    "function generate_full_dispatcher(filename::String, n::Int)\n",
    "    open(filename, \"w\") do io\n",
    "        println(io, \"#include <complex.h>\\n#include <math.h>\\n\")\n",
    "        # External subfunctions\n",
    "        for i in 1:(n)\n",
    "            println(io, \"extern void diffeqf_$i(double complex* du, const double complex* RHS1);\")\n",
    "        end\n",
    "\n",
    "        println(io, \"\\nvoid diffeqf(double complex* du, const double complex* RHS1) {\")\n",
    "\n",
    "        # Call the subfunctions\n",
    "        for i in 1:(n)\n",
    "            println(io, \"    diffeqf_$i(du, RHS1);\")\n",
    "        end\n",
    "\n",
    "        println(io, \"}\")\n",
    "    end\n",
    "end\n",
    "\n",
    "generate_full_dispatcher(\"dispatcher.c\", length(eqs_eval))\n",
    "\n"
   ]
  },
  {
   "cell_type": "markdown",
   "id": "f37fac6b",
   "metadata": {},
   "source": [
    "### Build object file"
   ]
  },
  {
   "cell_type": "code",
   "execution_count": 13,
   "id": "7f1b9e0f",
   "metadata": {},
   "outputs": [],
   "source": [
    "\"\"\" Create the object file (with the name of all the functions and their corresponding files) to avoid compilation issue \"\"\"\n",
    "function objs_file()\n",
    "    open(\"objs.txt\", \"w\") do io\n",
    "         println(io, \"dispatcher.o\")\n",
    "        for i in 1:length(eqs_eval)\n",
    "            println(io, \"Cfunctions/diffeqf_$i.o\")\n",
    "        end\n",
    "    end\n",
    "end\n",
    "\n",
    "objs_file()"
   ]
  }
 ],
 "metadata": {
  "kernelspec": {
   "display_name": "Julia 1.11.5",
   "language": "julia",
   "name": "julia-1.11"
  },
  "language_info": {
   "file_extension": ".jl",
   "mimetype": "application/julia",
   "name": "julia",
   "version": "1.11.5"
  }
 },
 "nbformat": 4,
 "nbformat_minor": 5
}
